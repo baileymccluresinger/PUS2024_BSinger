{
  "nbformat": 4,
  "nbformat_minor": 0,
  "metadata": {
    "colab": {
      "provenance": [],
      "authorship_tag": "ABX9TyP4ltp+fMD6GY6glCM9DhuN",
      "include_colab_link": true
    },
    "kernelspec": {
      "name": "python3",
      "display_name": "Python 3"
    },
    "language_info": {
      "name": "python"
    }
  },
  "cells": [
    {
      "cell_type": "markdown",
      "metadata": {
        "id": "view-in-github",
        "colab_type": "text"
      },
      "source": [
        "<a href=\"https://colab.research.google.com/github/baileymccluresinger/PUS2024_BSinger/blob/main/HW2/HW2_Assignment2_BSinger.ipynb\" target=\"_parent\"><img src=\"https://colab.research.google.com/assets/colab-badge.svg\" alt=\"Open In Colab\"/></a>"
      ]
    },
    {
      "cell_type": "markdown",
      "source": [
        "#**Assignment 2: Design Investigation of Citibike Data**\n",
        "---"
      ],
      "metadata": {
        "id": "WcrKb2CZnOAc"
      }
    },
    {
      "cell_type": "code",
      "execution_count": null,
      "metadata": {
        "id": "_ng6Lf8s8tyk",
        "colab": {
          "base_uri": "https://localhost:8080/"
        },
        "outputId": "eefbac68-f8e7-4a13-d68c-f36720e97389"
      },
      "outputs": [
        {
          "output_type": "stream",
          "name": "stdout",
          "text": [
            "Populating the interactive namespace from numpy and matplotlib\n"
          ]
        },
        {
          "output_type": "stream",
          "name": "stderr",
          "text": [
            "/usr/local/lib/python3.10/dist-packages/IPython/core/magics/pylab.py:159: UserWarning: pylab import has clobbered these variables: ['plt']\n",
            "`%matplotlib` prevents importing * from pylab and numpy\n",
            "  warn(\"pylab import has clobbered these variables: %s\"  % clobbered +\n"
          ]
        }
      ],
      "source": [
        "from __future__  import print_function, division\n",
        "import pylab as plt\n",
        "import pandas as pd\n",
        "import numpy as np\n",
        "\n",
        "%pylab inline\n",
        "\n",
        "import pandas as pd\n",
        "import zipfile\n",
        "import requests\n",
        "from io import BytesIO"
      ]
    },
    {
      "cell_type": "markdown",
      "source": [
        "###**General Idea**\n",
        "---"
      ],
      "metadata": {
        "id": "50m0PnrfnxcD"
      }
    },
    {
      "cell_type": "markdown",
      "source": [
        "People who self-identify as women (*women* for short) are more likely than people who self-identify as men (*men* for short) to use Citibike for day travel.\n",
        "\n",
        "**OR** (in terms of proportions due to the unequal usage rate)\n",
        "\n",
        "The proportion of women who use Citibike for day travel is greater than the proportion of men who use Citibike for day travel."
      ],
      "metadata": {
        "id": "76dqFX_UpVyE"
      }
    },
    {
      "cell_type": "markdown",
      "source": [
        "###**Significance Threshhold**\n",
        "---"
      ],
      "metadata": {
        "id": "q2TdupLHoUyl"
      }
    },
    {
      "cell_type": "markdown",
      "source": [
        "I will use a significance level  $\\alpha=0.05$"
      ],
      "metadata": {
        "id": "CUNzCbNt1TzC"
      }
    },
    {
      "cell_type": "markdown",
      "source": [
        "###**Null Hypothesis**\n",
        "---"
      ],
      "metadata": {
        "id": "rrQLOv5noa_f"
      }
    },
    {
      "cell_type": "markdown",
      "source": [
        "The proportion of men who use Citibike for night travel is less than the proportion of women who use Citibike for night travel.\n",
        "\n",
        "The proportion of women who use Citibike for night travel is the same or greater than the proportion of men who use Citibike for night travel."
      ],
      "metadata": {
        "id": "GXYzqTNGZCPI"
      }
    },
    {
      "cell_type": "markdown",
      "source": [
        "# _$H_0$_ : $\\frac{M_{\\\\{night}}}{M_{\\\\{total}}} $$ <= $$ \\frac{W_{\\\\{night}}}{W_{\\\\{total}}}$\n",
        "##$or$\n",
        "# _$H_0$_ : $\\frac{M_{\\\\{night}}}{M_{\\\\{total}}} $ $ - $ $ \\frac{W_{\\\\{night}}}{W_{\\\\{total}}}$ $<=0$"
      ],
      "metadata": {
        "id": "Xkw9SH-IyiuP"
      }
    },
    {
      "cell_type": "markdown",
      "source": [
        "###**Alternative Hypothesis**\n",
        "---"
      ],
      "metadata": {
        "id": "szKCd7RgofBo"
      }
    },
    {
      "cell_type": "markdown",
      "source": [
        "The proportion of men who use Citibike for night travel is greater than the proportion of women who use Citibike for night travel.\n",
        "\n",
        "The proportion of women who use Citibike for night travel is less than the proportion of men who use Citibike for night travel."
      ],
      "metadata": {
        "id": "P0ZGNerEdacx"
      }
    },
    {
      "cell_type": "markdown",
      "source": [
        "# _$H_A$_ : $\\frac{M_{\\\\{night}}}{M_{\\\\{total}}} $ $ > $ $ \\frac{W_{\\\\{night}}}{W_{\\\\{total}}}$\n",
        "##$or$\n",
        "# _$H_A$_ : $\\frac{M_{\\\\{night}}}{M_{\\\\{total}}} $ $ - $ $ \\frac{W_{\\\\{night}}}{W_{\\\\{total}}}$ $>0$"
      ],
      "metadata": {
        "id": "vwAfD_ajvaph"
      }
    },
    {
      "cell_type": "markdown",
      "source": [
        "###**Null Hypothesis Rejection Testing**\n",
        "---"
      ],
      "metadata": {
        "id": "vPm2OGGOsM1I"
      }
    },
    {
      "cell_type": "markdown",
      "source": [
        "Z test for unpaired data // difference of proportions"
      ],
      "metadata": {
        "id": "JkheSrgDsSRE"
      }
    },
    {
      "cell_type": "markdown",
      "source": [
        "##**Data Testing**\n",
        "---"
      ],
      "metadata": {
        "id": "dM06Iol3w-Ce"
      }
    },
    {
      "cell_type": "code",
      "source": [
        "datestring = '2019'\n",
        "\n",
        "# Define the URL of the zip file\n",
        "url = \"https://s3.amazonaws.com/tripdata/\" + datestring + \"-citibike-tripdata.zip\"\n",
        "\n",
        "# Download the zip file\n",
        "response = requests.get(url)\n",
        "zip_file = zipfile.ZipFile(BytesIO(response.content))\n",
        "\n",
        "#extract all the files in the zipped folder locally\n",
        "zip_file.extractall()"
      ],
      "metadata": {
        "id": "sSUkEwv3DKuO"
      },
      "execution_count": null,
      "outputs": []
    },
    {
      "cell_type": "code",
      "source": [
        "!ls"
      ],
      "metadata": {
        "id": "JXSQC-2vQW84",
        "colab": {
          "base_uri": "https://localhost:8080/"
        },
        "outputId": "f03a9395-0d68-4d4e-8531-5e2a1448fa5a"
      },
      "execution_count": null,
      "outputs": [
        {
          "output_type": "stream",
          "name": "stdout",
          "text": [
            "2019-citibike-tripdata\t__MACOSX  sample_data\n"
          ]
        }
      ]
    },
    {
      "cell_type": "code",
      "source": [
        "!ls 2019-citibike-tripdata"
      ],
      "metadata": {
        "colab": {
          "base_uri": "https://localhost:8080/"
        },
        "id": "Tnq7BF2PRAEG",
        "outputId": "66cac63c-4338-478a-adc3-cb50b73f438e"
      },
      "execution_count": null,
      "outputs": [
        {
          "output_type": "stream",
          "name": "stdout",
          "text": [
            "10_October   12_December  2_February  4_April  6_June  8_August\n",
            "11_November  1_January\t  3_March     5_May    7_July  9_September\n"
          ]
        }
      ]
    },
    {
      "cell_type": "code",
      "source": [
        "!ls 2019-citibike-tripdata/5_May"
      ],
      "metadata": {
        "colab": {
          "base_uri": "https://localhost:8080/"
        },
        "id": "4vcGzgeOV8ce",
        "outputId": "0fbca3d2-346c-44e5-eccd-fb839bebb555"
      },
      "execution_count": null,
      "outputs": [
        {
          "output_type": "stream",
          "name": "stdout",
          "text": [
            "201905-citibike-tripdata_1.csv\t201905-citibike-tripdata_2.csv\n"
          ]
        }
      ]
    },
    {
      "cell_type": "code",
      "source": [
        "cbMay19 = pd.read_csv(datestring + '-citibike-tripdata/5_May/' + datestring + '05-citibike-tripdata_1.csv')"
      ],
      "metadata": {
        "id": "W30VtNsARZGx"
      },
      "execution_count": null,
      "outputs": []
    },
    {
      "cell_type": "code",
      "source": [
        "cbMay19.head()"
      ],
      "metadata": {
        "colab": {
          "base_uri": "https://localhost:8080/",
          "height": 394
        },
        "id": "qW-8752bWIC5",
        "outputId": "0d6f0aec-de1d-4526-b835-ae22dc31dae8"
      },
      "execution_count": null,
      "outputs": [
        {
          "output_type": "execute_result",
          "data": {
            "text/plain": [
              "   tripduration                 starttime                  stoptime  \\\n",
              "0           139  2019-05-01 00:00:01.9010  2019-05-01 00:02:21.5170   \n",
              "1           754  2019-05-01 00:00:03.0210  2019-05-01 00:12:37.6920   \n",
              "2          2308  2019-05-01 00:00:04.6270  2019-05-01 00:38:33.1710   \n",
              "3           143  2019-05-01 00:00:19.3340  2019-05-01 00:02:42.5200   \n",
              "4           138  2019-05-01 00:00:22.1840  2019-05-01 00:02:40.6480   \n",
              "\n",
              "   start station id         start station name  start station latitude  \\\n",
              "0               447            8 Ave & W 52 St               40.763707   \n",
              "1              3258           W 27 St & 10 Ave               40.750182   \n",
              "2              3093       N 6 St & Bedford Ave               40.717452   \n",
              "3              3486  Schermerhorn St & Bond St               40.688417   \n",
              "4               388           W 26 St & 10 Ave               40.749718   \n",
              "\n",
              "   start station longitude  end station id            end station name  \\\n",
              "0               -73.985162             423             W 54 St & 9 Ave   \n",
              "1               -74.002184            3255             8 Ave & W 31 St   \n",
              "2               -73.958509            3676  Van Brunt St & Van Dyke St   \n",
              "3               -73.984517            3412      Pacific St & Nevins St   \n",
              "4               -74.002950             494             W 26 St & 8 Ave   \n",
              "\n",
              "   end station latitude  end station longitude  bikeid    usertype  \\\n",
              "0             40.765849             -73.986905   31170  Subscriber   \n",
              "1             40.750585             -73.994685   25560    Customer   \n",
              "2             40.675833             -74.014726   33369  Subscriber   \n",
              "3             40.685376             -73.983021   32041  Subscriber   \n",
              "4             40.747348             -73.997236   35237  Subscriber   \n",
              "\n",
              "   birth year  gender  \n",
              "0        1983       1  \n",
              "1        1969       0  \n",
              "2        1978       1  \n",
              "3        1997       1  \n",
              "4        1967       1  "
            ],
            "text/html": [
              "\n",
              "  <div id=\"df-57a1d53c-40a0-4b36-b4df-4fd59e6d011a\" class=\"colab-df-container\">\n",
              "    <div>\n",
              "<style scoped>\n",
              "    .dataframe tbody tr th:only-of-type {\n",
              "        vertical-align: middle;\n",
              "    }\n",
              "\n",
              "    .dataframe tbody tr th {\n",
              "        vertical-align: top;\n",
              "    }\n",
              "\n",
              "    .dataframe thead th {\n",
              "        text-align: right;\n",
              "    }\n",
              "</style>\n",
              "<table border=\"1\" class=\"dataframe\">\n",
              "  <thead>\n",
              "    <tr style=\"text-align: right;\">\n",
              "      <th></th>\n",
              "      <th>tripduration</th>\n",
              "      <th>starttime</th>\n",
              "      <th>stoptime</th>\n",
              "      <th>start station id</th>\n",
              "      <th>start station name</th>\n",
              "      <th>start station latitude</th>\n",
              "      <th>start station longitude</th>\n",
              "      <th>end station id</th>\n",
              "      <th>end station name</th>\n",
              "      <th>end station latitude</th>\n",
              "      <th>end station longitude</th>\n",
              "      <th>bikeid</th>\n",
              "      <th>usertype</th>\n",
              "      <th>birth year</th>\n",
              "      <th>gender</th>\n",
              "    </tr>\n",
              "  </thead>\n",
              "  <tbody>\n",
              "    <tr>\n",
              "      <th>0</th>\n",
              "      <td>139</td>\n",
              "      <td>2019-05-01 00:00:01.9010</td>\n",
              "      <td>2019-05-01 00:02:21.5170</td>\n",
              "      <td>447</td>\n",
              "      <td>8 Ave &amp; W 52 St</td>\n",
              "      <td>40.763707</td>\n",
              "      <td>-73.985162</td>\n",
              "      <td>423</td>\n",
              "      <td>W 54 St &amp; 9 Ave</td>\n",
              "      <td>40.765849</td>\n",
              "      <td>-73.986905</td>\n",
              "      <td>31170</td>\n",
              "      <td>Subscriber</td>\n",
              "      <td>1983</td>\n",
              "      <td>1</td>\n",
              "    </tr>\n",
              "    <tr>\n",
              "      <th>1</th>\n",
              "      <td>754</td>\n",
              "      <td>2019-05-01 00:00:03.0210</td>\n",
              "      <td>2019-05-01 00:12:37.6920</td>\n",
              "      <td>3258</td>\n",
              "      <td>W 27 St &amp; 10 Ave</td>\n",
              "      <td>40.750182</td>\n",
              "      <td>-74.002184</td>\n",
              "      <td>3255</td>\n",
              "      <td>8 Ave &amp; W 31 St</td>\n",
              "      <td>40.750585</td>\n",
              "      <td>-73.994685</td>\n",
              "      <td>25560</td>\n",
              "      <td>Customer</td>\n",
              "      <td>1969</td>\n",
              "      <td>0</td>\n",
              "    </tr>\n",
              "    <tr>\n",
              "      <th>2</th>\n",
              "      <td>2308</td>\n",
              "      <td>2019-05-01 00:00:04.6270</td>\n",
              "      <td>2019-05-01 00:38:33.1710</td>\n",
              "      <td>3093</td>\n",
              "      <td>N 6 St &amp; Bedford Ave</td>\n",
              "      <td>40.717452</td>\n",
              "      <td>-73.958509</td>\n",
              "      <td>3676</td>\n",
              "      <td>Van Brunt St &amp; Van Dyke St</td>\n",
              "      <td>40.675833</td>\n",
              "      <td>-74.014726</td>\n",
              "      <td>33369</td>\n",
              "      <td>Subscriber</td>\n",
              "      <td>1978</td>\n",
              "      <td>1</td>\n",
              "    </tr>\n",
              "    <tr>\n",
              "      <th>3</th>\n",
              "      <td>143</td>\n",
              "      <td>2019-05-01 00:00:19.3340</td>\n",
              "      <td>2019-05-01 00:02:42.5200</td>\n",
              "      <td>3486</td>\n",
              "      <td>Schermerhorn St &amp; Bond St</td>\n",
              "      <td>40.688417</td>\n",
              "      <td>-73.984517</td>\n",
              "      <td>3412</td>\n",
              "      <td>Pacific St &amp; Nevins St</td>\n",
              "      <td>40.685376</td>\n",
              "      <td>-73.983021</td>\n",
              "      <td>32041</td>\n",
              "      <td>Subscriber</td>\n",
              "      <td>1997</td>\n",
              "      <td>1</td>\n",
              "    </tr>\n",
              "    <tr>\n",
              "      <th>4</th>\n",
              "      <td>138</td>\n",
              "      <td>2019-05-01 00:00:22.1840</td>\n",
              "      <td>2019-05-01 00:02:40.6480</td>\n",
              "      <td>388</td>\n",
              "      <td>W 26 St &amp; 10 Ave</td>\n",
              "      <td>40.749718</td>\n",
              "      <td>-74.002950</td>\n",
              "      <td>494</td>\n",
              "      <td>W 26 St &amp; 8 Ave</td>\n",
              "      <td>40.747348</td>\n",
              "      <td>-73.997236</td>\n",
              "      <td>35237</td>\n",
              "      <td>Subscriber</td>\n",
              "      <td>1967</td>\n",
              "      <td>1</td>\n",
              "    </tr>\n",
              "  </tbody>\n",
              "</table>\n",
              "</div>\n",
              "    <div class=\"colab-df-buttons\">\n",
              "\n",
              "  <div class=\"colab-df-container\">\n",
              "    <button class=\"colab-df-convert\" onclick=\"convertToInteractive('df-57a1d53c-40a0-4b36-b4df-4fd59e6d011a')\"\n",
              "            title=\"Convert this dataframe to an interactive table.\"\n",
              "            style=\"display:none;\">\n",
              "\n",
              "  <svg xmlns=\"http://www.w3.org/2000/svg\" height=\"24px\" viewBox=\"0 -960 960 960\">\n",
              "    <path d=\"M120-120v-720h720v720H120Zm60-500h600v-160H180v160Zm220 220h160v-160H400v160Zm0 220h160v-160H400v160ZM180-400h160v-160H180v160Zm440 0h160v-160H620v160ZM180-180h160v-160H180v160Zm440 0h160v-160H620v160Z\"/>\n",
              "  </svg>\n",
              "    </button>\n",
              "\n",
              "  <style>\n",
              "    .colab-df-container {\n",
              "      display:flex;\n",
              "      gap: 12px;\n",
              "    }\n",
              "\n",
              "    .colab-df-convert {\n",
              "      background-color: #E8F0FE;\n",
              "      border: none;\n",
              "      border-radius: 50%;\n",
              "      cursor: pointer;\n",
              "      display: none;\n",
              "      fill: #1967D2;\n",
              "      height: 32px;\n",
              "      padding: 0 0 0 0;\n",
              "      width: 32px;\n",
              "    }\n",
              "\n",
              "    .colab-df-convert:hover {\n",
              "      background-color: #E2EBFA;\n",
              "      box-shadow: 0px 1px 2px rgba(60, 64, 67, 0.3), 0px 1px 3px 1px rgba(60, 64, 67, 0.15);\n",
              "      fill: #174EA6;\n",
              "    }\n",
              "\n",
              "    .colab-df-buttons div {\n",
              "      margin-bottom: 4px;\n",
              "    }\n",
              "\n",
              "    [theme=dark] .colab-df-convert {\n",
              "      background-color: #3B4455;\n",
              "      fill: #D2E3FC;\n",
              "    }\n",
              "\n",
              "    [theme=dark] .colab-df-convert:hover {\n",
              "      background-color: #434B5C;\n",
              "      box-shadow: 0px 1px 3px 1px rgba(0, 0, 0, 0.15);\n",
              "      filter: drop-shadow(0px 1px 2px rgba(0, 0, 0, 0.3));\n",
              "      fill: #FFFFFF;\n",
              "    }\n",
              "  </style>\n",
              "\n",
              "    <script>\n",
              "      const buttonEl =\n",
              "        document.querySelector('#df-57a1d53c-40a0-4b36-b4df-4fd59e6d011a button.colab-df-convert');\n",
              "      buttonEl.style.display =\n",
              "        google.colab.kernel.accessAllowed ? 'block' : 'none';\n",
              "\n",
              "      async function convertToInteractive(key) {\n",
              "        const element = document.querySelector('#df-57a1d53c-40a0-4b36-b4df-4fd59e6d011a');\n",
              "        const dataTable =\n",
              "          await google.colab.kernel.invokeFunction('convertToInteractive',\n",
              "                                                    [key], {});\n",
              "        if (!dataTable) return;\n",
              "\n",
              "        const docLinkHtml = 'Like what you see? Visit the ' +\n",
              "          '<a target=\"_blank\" href=https://colab.research.google.com/notebooks/data_table.ipynb>data table notebook</a>'\n",
              "          + ' to learn more about interactive tables.';\n",
              "        element.innerHTML = '';\n",
              "        dataTable['output_type'] = 'display_data';\n",
              "        await google.colab.output.renderOutput(dataTable, element);\n",
              "        const docLink = document.createElement('div');\n",
              "        docLink.innerHTML = docLinkHtml;\n",
              "        element.appendChild(docLink);\n",
              "      }\n",
              "    </script>\n",
              "  </div>\n",
              "\n",
              "\n",
              "<div id=\"df-b5f1a6a0-b8fe-4ae1-bef1-2dd19d68a5de\">\n",
              "  <button class=\"colab-df-quickchart\" onclick=\"quickchart('df-b5f1a6a0-b8fe-4ae1-bef1-2dd19d68a5de')\"\n",
              "            title=\"Suggest charts\"\n",
              "            style=\"display:none;\">\n",
              "\n",
              "<svg xmlns=\"http://www.w3.org/2000/svg\" height=\"24px\"viewBox=\"0 0 24 24\"\n",
              "     width=\"24px\">\n",
              "    <g>\n",
              "        <path d=\"M19 3H5c-1.1 0-2 .9-2 2v14c0 1.1.9 2 2 2h14c1.1 0 2-.9 2-2V5c0-1.1-.9-2-2-2zM9 17H7v-7h2v7zm4 0h-2V7h2v10zm4 0h-2v-4h2v4z\"/>\n",
              "    </g>\n",
              "</svg>\n",
              "  </button>\n",
              "\n",
              "<style>\n",
              "  .colab-df-quickchart {\n",
              "      --bg-color: #E8F0FE;\n",
              "      --fill-color: #1967D2;\n",
              "      --hover-bg-color: #E2EBFA;\n",
              "      --hover-fill-color: #174EA6;\n",
              "      --disabled-fill-color: #AAA;\n",
              "      --disabled-bg-color: #DDD;\n",
              "  }\n",
              "\n",
              "  [theme=dark] .colab-df-quickchart {\n",
              "      --bg-color: #3B4455;\n",
              "      --fill-color: #D2E3FC;\n",
              "      --hover-bg-color: #434B5C;\n",
              "      --hover-fill-color: #FFFFFF;\n",
              "      --disabled-bg-color: #3B4455;\n",
              "      --disabled-fill-color: #666;\n",
              "  }\n",
              "\n",
              "  .colab-df-quickchart {\n",
              "    background-color: var(--bg-color);\n",
              "    border: none;\n",
              "    border-radius: 50%;\n",
              "    cursor: pointer;\n",
              "    display: none;\n",
              "    fill: var(--fill-color);\n",
              "    height: 32px;\n",
              "    padding: 0;\n",
              "    width: 32px;\n",
              "  }\n",
              "\n",
              "  .colab-df-quickchart:hover {\n",
              "    background-color: var(--hover-bg-color);\n",
              "    box-shadow: 0 1px 2px rgba(60, 64, 67, 0.3), 0 1px 3px 1px rgba(60, 64, 67, 0.15);\n",
              "    fill: var(--button-hover-fill-color);\n",
              "  }\n",
              "\n",
              "  .colab-df-quickchart-complete:disabled,\n",
              "  .colab-df-quickchart-complete:disabled:hover {\n",
              "    background-color: var(--disabled-bg-color);\n",
              "    fill: var(--disabled-fill-color);\n",
              "    box-shadow: none;\n",
              "  }\n",
              "\n",
              "  .colab-df-spinner {\n",
              "    border: 2px solid var(--fill-color);\n",
              "    border-color: transparent;\n",
              "    border-bottom-color: var(--fill-color);\n",
              "    animation:\n",
              "      spin 1s steps(1) infinite;\n",
              "  }\n",
              "\n",
              "  @keyframes spin {\n",
              "    0% {\n",
              "      border-color: transparent;\n",
              "      border-bottom-color: var(--fill-color);\n",
              "      border-left-color: var(--fill-color);\n",
              "    }\n",
              "    20% {\n",
              "      border-color: transparent;\n",
              "      border-left-color: var(--fill-color);\n",
              "      border-top-color: var(--fill-color);\n",
              "    }\n",
              "    30% {\n",
              "      border-color: transparent;\n",
              "      border-left-color: var(--fill-color);\n",
              "      border-top-color: var(--fill-color);\n",
              "      border-right-color: var(--fill-color);\n",
              "    }\n",
              "    40% {\n",
              "      border-color: transparent;\n",
              "      border-right-color: var(--fill-color);\n",
              "      border-top-color: var(--fill-color);\n",
              "    }\n",
              "    60% {\n",
              "      border-color: transparent;\n",
              "      border-right-color: var(--fill-color);\n",
              "    }\n",
              "    80% {\n",
              "      border-color: transparent;\n",
              "      border-right-color: var(--fill-color);\n",
              "      border-bottom-color: var(--fill-color);\n",
              "    }\n",
              "    90% {\n",
              "      border-color: transparent;\n",
              "      border-bottom-color: var(--fill-color);\n",
              "    }\n",
              "  }\n",
              "</style>\n",
              "\n",
              "  <script>\n",
              "    async function quickchart(key) {\n",
              "      const quickchartButtonEl =\n",
              "        document.querySelector('#' + key + ' button');\n",
              "      quickchartButtonEl.disabled = true;  // To prevent multiple clicks.\n",
              "      quickchartButtonEl.classList.add('colab-df-spinner');\n",
              "      try {\n",
              "        const charts = await google.colab.kernel.invokeFunction(\n",
              "            'suggestCharts', [key], {});\n",
              "      } catch (error) {\n",
              "        console.error('Error during call to suggestCharts:', error);\n",
              "      }\n",
              "      quickchartButtonEl.classList.remove('colab-df-spinner');\n",
              "      quickchartButtonEl.classList.add('colab-df-quickchart-complete');\n",
              "    }\n",
              "    (() => {\n",
              "      let quickchartButtonEl =\n",
              "        document.querySelector('#df-b5f1a6a0-b8fe-4ae1-bef1-2dd19d68a5de button');\n",
              "      quickchartButtonEl.style.display =\n",
              "        google.colab.kernel.accessAllowed ? 'block' : 'none';\n",
              "    })();\n",
              "  </script>\n",
              "</div>\n",
              "\n",
              "    </div>\n",
              "  </div>\n"
            ],
            "application/vnd.google.colaboratory.intrinsic+json": {
              "type": "dataframe",
              "variable_name": "cbMay19"
            }
          },
          "metadata": {},
          "execution_count": 8
        }
      ]
    },
    {
      "cell_type": "code",
      "source": [
        "cbMay19.columns"
      ],
      "metadata": {
        "colab": {
          "base_uri": "https://localhost:8080/"
        },
        "id": "bAyMPxytWOZu",
        "outputId": "83f97cfd-a500-4d9f-eeb5-b0517cd53f95"
      },
      "execution_count": null,
      "outputs": [
        {
          "output_type": "execute_result",
          "data": {
            "text/plain": [
              "Index(['tripduration', 'starttime', 'stoptime', 'start station id',\n",
              "       'start station name', 'start station latitude',\n",
              "       'start station longitude', 'end station id', 'end station name',\n",
              "       'end station latitude', 'end station longitude', 'bikeid', 'usertype',\n",
              "       'birth year', 'gender'],\n",
              "      dtype='object')"
            ]
          },
          "metadata": {},
          "execution_count": 9
        }
      ]
    },
    {
      "cell_type": "code",
      "source": [
        "#add a datetime object\n",
        "cbMay19[\"date\"] = pd.to_datetime(cbMay19.starttime)"
      ],
      "metadata": {
        "id": "52M-vYAYWWWT"
      },
      "execution_count": null,
      "outputs": []
    },
    {
      "cell_type": "code",
      "source": [
        "#clean up\n",
        "cbMay19.drop(['tripduration', 'starttime', 'stoptime', 'start station id',\n",
        "       'start station name', 'start station latitude',\n",
        "       'start station longitude', 'end station id', 'end station name',\n",
        "       'end station latitude', 'end station longitude', 'bikeid', 'usertype',\n",
        "       'birth year'], axis=1, inplace=True)"
      ],
      "metadata": {
        "id": "qf7M1UBEWZA-"
      },
      "execution_count": null,
      "outputs": []
    },
    {
      "cell_type": "code",
      "source": [
        "cbMay19.head()"
      ],
      "metadata": {
        "colab": {
          "base_uri": "https://localhost:8080/",
          "height": 204
        },
        "id": "66ghSqYMWb9O",
        "outputId": "e3086d64-9979-4a8b-ecf0-50e0ffe676ad"
      },
      "execution_count": null,
      "outputs": [
        {
          "output_type": "execute_result",
          "data": {
            "text/plain": [
              "   gender                    date\n",
              "0       1 2019-05-01 00:00:01.901\n",
              "1       0 2019-05-01 00:00:03.021\n",
              "2       1 2019-05-01 00:00:04.627\n",
              "3       1 2019-05-01 00:00:19.334\n",
              "4       1 2019-05-01 00:00:22.184"
            ],
            "text/html": [
              "\n",
              "  <div id=\"df-a28cc13a-a167-45e3-874b-092bebb959f7\" class=\"colab-df-container\">\n",
              "    <div>\n",
              "<style scoped>\n",
              "    .dataframe tbody tr th:only-of-type {\n",
              "        vertical-align: middle;\n",
              "    }\n",
              "\n",
              "    .dataframe tbody tr th {\n",
              "        vertical-align: top;\n",
              "    }\n",
              "\n",
              "    .dataframe thead th {\n",
              "        text-align: right;\n",
              "    }\n",
              "</style>\n",
              "<table border=\"1\" class=\"dataframe\">\n",
              "  <thead>\n",
              "    <tr style=\"text-align: right;\">\n",
              "      <th></th>\n",
              "      <th>gender</th>\n",
              "      <th>date</th>\n",
              "    </tr>\n",
              "  </thead>\n",
              "  <tbody>\n",
              "    <tr>\n",
              "      <th>0</th>\n",
              "      <td>1</td>\n",
              "      <td>2019-05-01 00:00:01.901</td>\n",
              "    </tr>\n",
              "    <tr>\n",
              "      <th>1</th>\n",
              "      <td>0</td>\n",
              "      <td>2019-05-01 00:00:03.021</td>\n",
              "    </tr>\n",
              "    <tr>\n",
              "      <th>2</th>\n",
              "      <td>1</td>\n",
              "      <td>2019-05-01 00:00:04.627</td>\n",
              "    </tr>\n",
              "    <tr>\n",
              "      <th>3</th>\n",
              "      <td>1</td>\n",
              "      <td>2019-05-01 00:00:19.334</td>\n",
              "    </tr>\n",
              "    <tr>\n",
              "      <th>4</th>\n",
              "      <td>1</td>\n",
              "      <td>2019-05-01 00:00:22.184</td>\n",
              "    </tr>\n",
              "  </tbody>\n",
              "</table>\n",
              "</div>\n",
              "    <div class=\"colab-df-buttons\">\n",
              "\n",
              "  <div class=\"colab-df-container\">\n",
              "    <button class=\"colab-df-convert\" onclick=\"convertToInteractive('df-a28cc13a-a167-45e3-874b-092bebb959f7')\"\n",
              "            title=\"Convert this dataframe to an interactive table.\"\n",
              "            style=\"display:none;\">\n",
              "\n",
              "  <svg xmlns=\"http://www.w3.org/2000/svg\" height=\"24px\" viewBox=\"0 -960 960 960\">\n",
              "    <path d=\"M120-120v-720h720v720H120Zm60-500h600v-160H180v160Zm220 220h160v-160H400v160Zm0 220h160v-160H400v160ZM180-400h160v-160H180v160Zm440 0h160v-160H620v160ZM180-180h160v-160H180v160Zm440 0h160v-160H620v160Z\"/>\n",
              "  </svg>\n",
              "    </button>\n",
              "\n",
              "  <style>\n",
              "    .colab-df-container {\n",
              "      display:flex;\n",
              "      gap: 12px;\n",
              "    }\n",
              "\n",
              "    .colab-df-convert {\n",
              "      background-color: #E8F0FE;\n",
              "      border: none;\n",
              "      border-radius: 50%;\n",
              "      cursor: pointer;\n",
              "      display: none;\n",
              "      fill: #1967D2;\n",
              "      height: 32px;\n",
              "      padding: 0 0 0 0;\n",
              "      width: 32px;\n",
              "    }\n",
              "\n",
              "    .colab-df-convert:hover {\n",
              "      background-color: #E2EBFA;\n",
              "      box-shadow: 0px 1px 2px rgba(60, 64, 67, 0.3), 0px 1px 3px 1px rgba(60, 64, 67, 0.15);\n",
              "      fill: #174EA6;\n",
              "    }\n",
              "\n",
              "    .colab-df-buttons div {\n",
              "      margin-bottom: 4px;\n",
              "    }\n",
              "\n",
              "    [theme=dark] .colab-df-convert {\n",
              "      background-color: #3B4455;\n",
              "      fill: #D2E3FC;\n",
              "    }\n",
              "\n",
              "    [theme=dark] .colab-df-convert:hover {\n",
              "      background-color: #434B5C;\n",
              "      box-shadow: 0px 1px 3px 1px rgba(0, 0, 0, 0.15);\n",
              "      filter: drop-shadow(0px 1px 2px rgba(0, 0, 0, 0.3));\n",
              "      fill: #FFFFFF;\n",
              "    }\n",
              "  </style>\n",
              "\n",
              "    <script>\n",
              "      const buttonEl =\n",
              "        document.querySelector('#df-a28cc13a-a167-45e3-874b-092bebb959f7 button.colab-df-convert');\n",
              "      buttonEl.style.display =\n",
              "        google.colab.kernel.accessAllowed ? 'block' : 'none';\n",
              "\n",
              "      async function convertToInteractive(key) {\n",
              "        const element = document.querySelector('#df-a28cc13a-a167-45e3-874b-092bebb959f7');\n",
              "        const dataTable =\n",
              "          await google.colab.kernel.invokeFunction('convertToInteractive',\n",
              "                                                    [key], {});\n",
              "        if (!dataTable) return;\n",
              "\n",
              "        const docLinkHtml = 'Like what you see? Visit the ' +\n",
              "          '<a target=\"_blank\" href=https://colab.research.google.com/notebooks/data_table.ipynb>data table notebook</a>'\n",
              "          + ' to learn more about interactive tables.';\n",
              "        element.innerHTML = '';\n",
              "        dataTable['output_type'] = 'display_data';\n",
              "        await google.colab.output.renderOutput(dataTable, element);\n",
              "        const docLink = document.createElement('div');\n",
              "        docLink.innerHTML = docLinkHtml;\n",
              "        element.appendChild(docLink);\n",
              "      }\n",
              "    </script>\n",
              "  </div>\n",
              "\n",
              "\n",
              "<div id=\"df-49a8dd51-5752-4b53-8a93-990aece72c55\">\n",
              "  <button class=\"colab-df-quickchart\" onclick=\"quickchart('df-49a8dd51-5752-4b53-8a93-990aece72c55')\"\n",
              "            title=\"Suggest charts\"\n",
              "            style=\"display:none;\">\n",
              "\n",
              "<svg xmlns=\"http://www.w3.org/2000/svg\" height=\"24px\"viewBox=\"0 0 24 24\"\n",
              "     width=\"24px\">\n",
              "    <g>\n",
              "        <path d=\"M19 3H5c-1.1 0-2 .9-2 2v14c0 1.1.9 2 2 2h14c1.1 0 2-.9 2-2V5c0-1.1-.9-2-2-2zM9 17H7v-7h2v7zm4 0h-2V7h2v10zm4 0h-2v-4h2v4z\"/>\n",
              "    </g>\n",
              "</svg>\n",
              "  </button>\n",
              "\n",
              "<style>\n",
              "  .colab-df-quickchart {\n",
              "      --bg-color: #E8F0FE;\n",
              "      --fill-color: #1967D2;\n",
              "      --hover-bg-color: #E2EBFA;\n",
              "      --hover-fill-color: #174EA6;\n",
              "      --disabled-fill-color: #AAA;\n",
              "      --disabled-bg-color: #DDD;\n",
              "  }\n",
              "\n",
              "  [theme=dark] .colab-df-quickchart {\n",
              "      --bg-color: #3B4455;\n",
              "      --fill-color: #D2E3FC;\n",
              "      --hover-bg-color: #434B5C;\n",
              "      --hover-fill-color: #FFFFFF;\n",
              "      --disabled-bg-color: #3B4455;\n",
              "      --disabled-fill-color: #666;\n",
              "  }\n",
              "\n",
              "  .colab-df-quickchart {\n",
              "    background-color: var(--bg-color);\n",
              "    border: none;\n",
              "    border-radius: 50%;\n",
              "    cursor: pointer;\n",
              "    display: none;\n",
              "    fill: var(--fill-color);\n",
              "    height: 32px;\n",
              "    padding: 0;\n",
              "    width: 32px;\n",
              "  }\n",
              "\n",
              "  .colab-df-quickchart:hover {\n",
              "    background-color: var(--hover-bg-color);\n",
              "    box-shadow: 0 1px 2px rgba(60, 64, 67, 0.3), 0 1px 3px 1px rgba(60, 64, 67, 0.15);\n",
              "    fill: var(--button-hover-fill-color);\n",
              "  }\n",
              "\n",
              "  .colab-df-quickchart-complete:disabled,\n",
              "  .colab-df-quickchart-complete:disabled:hover {\n",
              "    background-color: var(--disabled-bg-color);\n",
              "    fill: var(--disabled-fill-color);\n",
              "    box-shadow: none;\n",
              "  }\n",
              "\n",
              "  .colab-df-spinner {\n",
              "    border: 2px solid var(--fill-color);\n",
              "    border-color: transparent;\n",
              "    border-bottom-color: var(--fill-color);\n",
              "    animation:\n",
              "      spin 1s steps(1) infinite;\n",
              "  }\n",
              "\n",
              "  @keyframes spin {\n",
              "    0% {\n",
              "      border-color: transparent;\n",
              "      border-bottom-color: var(--fill-color);\n",
              "      border-left-color: var(--fill-color);\n",
              "    }\n",
              "    20% {\n",
              "      border-color: transparent;\n",
              "      border-left-color: var(--fill-color);\n",
              "      border-top-color: var(--fill-color);\n",
              "    }\n",
              "    30% {\n",
              "      border-color: transparent;\n",
              "      border-left-color: var(--fill-color);\n",
              "      border-top-color: var(--fill-color);\n",
              "      border-right-color: var(--fill-color);\n",
              "    }\n",
              "    40% {\n",
              "      border-color: transparent;\n",
              "      border-right-color: var(--fill-color);\n",
              "      border-top-color: var(--fill-color);\n",
              "    }\n",
              "    60% {\n",
              "      border-color: transparent;\n",
              "      border-right-color: var(--fill-color);\n",
              "    }\n",
              "    80% {\n",
              "      border-color: transparent;\n",
              "      border-right-color: var(--fill-color);\n",
              "      border-bottom-color: var(--fill-color);\n",
              "    }\n",
              "    90% {\n",
              "      border-color: transparent;\n",
              "      border-bottom-color: var(--fill-color);\n",
              "    }\n",
              "  }\n",
              "</style>\n",
              "\n",
              "  <script>\n",
              "    async function quickchart(key) {\n",
              "      const quickchartButtonEl =\n",
              "        document.querySelector('#' + key + ' button');\n",
              "      quickchartButtonEl.disabled = true;  // To prevent multiple clicks.\n",
              "      quickchartButtonEl.classList.add('colab-df-spinner');\n",
              "      try {\n",
              "        const charts = await google.colab.kernel.invokeFunction(\n",
              "            'suggestCharts', [key], {});\n",
              "      } catch (error) {\n",
              "        console.error('Error during call to suggestCharts:', error);\n",
              "      }\n",
              "      quickchartButtonEl.classList.remove('colab-df-spinner');\n",
              "      quickchartButtonEl.classList.add('colab-df-quickchart-complete');\n",
              "    }\n",
              "    (() => {\n",
              "      let quickchartButtonEl =\n",
              "        document.querySelector('#df-49a8dd51-5752-4b53-8a93-990aece72c55 button');\n",
              "      quickchartButtonEl.style.display =\n",
              "        google.colab.kernel.accessAllowed ? 'block' : 'none';\n",
              "    })();\n",
              "  </script>\n",
              "</div>\n",
              "\n",
              "    </div>\n",
              "  </div>\n"
            ],
            "application/vnd.google.colaboratory.intrinsic+json": {
              "type": "dataframe",
              "variable_name": "cbMay19"
            }
          },
          "metadata": {},
          "execution_count": 12
        }
      ]
    },
    {
      "cell_type": "code",
      "source": [
        "cbMay19_w = cbMay19[cbMay19['gender'] == 2].drop([\"gender\"], axis=1)\n",
        "counts_w = cbMay19_w['date'].groupby([cbMay19_w.date.dt.hour]).count()\n",
        "\n",
        "ax = counts_w.plot(kind=\"bar\",\n",
        "                                                                        color='IndianRed',\n",
        "                                                                        label='female')\n",
        "cbMay19_m = cbMay19[cbMay19['gender'] == 1].drop([\"gender\"], axis=1)\n",
        "counts_m = cbMay19_m['date'].groupby([cbMay19_m.date.dt.hour]).count()\n",
        "\n",
        "ax = counts_m.plot(kind=\"bar\",\n",
        "                                                                        color='SteelBlue',\n",
        "                                                                        alpha=0.5,\n",
        "                                                                        label='male', ax=ax)\n",
        "ax.set_yticks((0,10000,20000,30000,40000,50000,60000,70000));\n",
        "ax.set_xticks((0,1,2,3,4,5,6,7,8,9,10,11,12,13,14,15,16,17,18,19,20,21,22,23));\n",
        "ax.xaxis.set_ticklabels(['12am', '1am', '2am', '3am', '4am', '5am', '6am', '7am', '8am', '9am', '10am', '11am', '12pm', '1pm', '2pm', '3pm', '4pm', '5pm', '6pm', '7pm', '8pm', '9pm', '10pm', '11pm'], fontsize = 8);\n",
        "ax.yaxis.set_ticklabels(['0','10,000','20,000','30,000','40,000','50,000','60,000','70,000'], fontsize = 8);\n",
        "plt.legend([\"female\",\"male\"], fontsize='small');\n",
        "plt.title(\"Number of Rides by Gender and Time of Day\\nMay 2019\");\n",
        "plt.ylabel(\"Number of Rides\");\n",
        "plt.xlabel(\"Time of Day\");"
      ],
      "metadata": {
        "colab": {
          "base_uri": "https://localhost:8080/",
          "height": 207
        },
        "id": "WDZ6aEtgWekB",
        "outputId": "e28dee71-7335-4dd2-fc48-e3078ef10a52"
      },
      "execution_count": 2,
      "outputs": [
        {
          "output_type": "error",
          "ename": "NameError",
          "evalue": "name 'cbMay19' is not defined",
          "traceback": [
            "\u001b[0;31m---------------------------------------------------------------------------\u001b[0m",
            "\u001b[0;31mNameError\u001b[0m                                 Traceback (most recent call last)",
            "\u001b[0;32m<ipython-input-2-b217bd81a47a>\u001b[0m in \u001b[0;36m<cell line: 1>\u001b[0;34m()\u001b[0m\n\u001b[0;32m----> 1\u001b[0;31m \u001b[0mcbMay19_w\u001b[0m \u001b[0;34m=\u001b[0m \u001b[0mcbMay19\u001b[0m\u001b[0;34m[\u001b[0m\u001b[0mcbMay19\u001b[0m\u001b[0;34m[\u001b[0m\u001b[0;34m'gender'\u001b[0m\u001b[0;34m]\u001b[0m \u001b[0;34m==\u001b[0m \u001b[0;36m2\u001b[0m\u001b[0;34m]\u001b[0m\u001b[0;34m.\u001b[0m\u001b[0mdrop\u001b[0m\u001b[0;34m(\u001b[0m\u001b[0;34m[\u001b[0m\u001b[0;34m\"gender\"\u001b[0m\u001b[0;34m]\u001b[0m\u001b[0;34m,\u001b[0m \u001b[0maxis\u001b[0m\u001b[0;34m=\u001b[0m\u001b[0;36m1\u001b[0m\u001b[0;34m)\u001b[0m\u001b[0;34m\u001b[0m\u001b[0;34m\u001b[0m\u001b[0m\n\u001b[0m\u001b[1;32m      2\u001b[0m \u001b[0mcounts_w\u001b[0m \u001b[0;34m=\u001b[0m \u001b[0mcbMay19_w\u001b[0m\u001b[0;34m[\u001b[0m\u001b[0;34m'date'\u001b[0m\u001b[0;34m]\u001b[0m\u001b[0;34m.\u001b[0m\u001b[0mgroupby\u001b[0m\u001b[0;34m(\u001b[0m\u001b[0;34m[\u001b[0m\u001b[0mcbMay19_w\u001b[0m\u001b[0;34m.\u001b[0m\u001b[0mdate\u001b[0m\u001b[0;34m.\u001b[0m\u001b[0mdt\u001b[0m\u001b[0;34m.\u001b[0m\u001b[0mhour\u001b[0m\u001b[0;34m]\u001b[0m\u001b[0;34m)\u001b[0m\u001b[0;34m.\u001b[0m\u001b[0mcount\u001b[0m\u001b[0;34m(\u001b[0m\u001b[0;34m)\u001b[0m\u001b[0;34m\u001b[0m\u001b[0;34m\u001b[0m\u001b[0m\n\u001b[1;32m      3\u001b[0m \u001b[0;34m\u001b[0m\u001b[0m\n\u001b[1;32m      4\u001b[0m ax = counts_w.plot(kind=\"bar\",\n\u001b[1;32m      5\u001b[0m                                                                         \u001b[0mcolor\u001b[0m\u001b[0;34m=\u001b[0m\u001b[0;34m'IndianRed'\u001b[0m\u001b[0;34m,\u001b[0m\u001b[0;34m\u001b[0m\u001b[0;34m\u001b[0m\u001b[0m\n",
            "\u001b[0;31mNameError\u001b[0m: name 'cbMay19' is not defined"
          ]
        }
      ]
    },
    {
      "cell_type": "markdown",
      "source": [
        "#####**Figure 2.1** Distribution of Citibike user data by gender and time of day, absolute counts"
      ],
      "metadata": {
        "id": "MMmBpKKRxrul"
      }
    },
    {
      "cell_type": "code",
      "source": [
        "norm_w = len(cbMay19_w)\n",
        "error_w = cbMay19_w[\"date\"][cbMay19_w.date.dt.hour < 5].groupby(cbMay19_w.date.dt.hour).count().std()\n",
        "errnight_w = cbMay19_w[\"date\"][cbMay19_w.date.dt.hour >= 5].groupby(cbMay19_w.date.dt.hour).count().std()\n",
        "norm_w, error_w, errnight_w"
      ],
      "metadata": {
        "colab": {
          "base_uri": "https://localhost:8080/"
        },
        "id": "v8WU01L9Xhp7",
        "outputId": "01b6df11-4f3e-4718-b201-9057b865a6fa"
      },
      "execution_count": null,
      "outputs": [
        {
          "output_type": "execute_result",
          "data": {
            "text/plain": [
              "(236060, 553.7833511401368, 6712.728602181806)"
            ]
          },
          "metadata": {},
          "execution_count": 14
        }
      ]
    },
    {
      "cell_type": "code",
      "source": [
        "norm_m = len(cbMay19_m)\n",
        "error_m = cbMay19_m[\"date\"][cbMay19_m.date.dt.hour < 5].groupby(cbMay19_m.date.dt.hour).count().std()\n",
        "errnight_m = cbMay19_m[\"date\"][cbMay19_m.date.dt.hour >= 5].groupby(cbMay19_m.date.dt.hour).count().std()\n",
        "norm_m, error_m, errnight_m"
      ],
      "metadata": {
        "colab": {
          "base_uri": "https://localhost:8080/"
        },
        "id": "eoqWhW2YhsRe",
        "outputId": "df02e5cd-61a3-4f27-c922-1a84e788de44"
      },
      "execution_count": null,
      "outputs": [
        {
          "output_type": "execute_result",
          "data": {
            "text/plain": [
              "(695072, 2184.730074860508, 18813.190878611946)"
            ]
          },
          "metadata": {},
          "execution_count": 15
        }
      ]
    },
    {
      "cell_type": "code",
      "source": [
        "ax=((counts_w) / norm_w).plot(kind=\"bar\",color='IndianRed', label='women bikers')\n",
        "(counts_m / norm_m).plot(kind=\"bar\", alpha=0.5,\n",
        "                           color='SteelBlue', label='men bikers', ax=ax)\n",
        "ax.set_yticks((0.00,0.02,0.04,0.06,0.08,0.10));\n",
        "ax.set_xticks((0,1,2,3,4,5,6,7,8,9,10,11,12,13,14,15,16,17,18,19,20,21,22,23));\n",
        "ax.xaxis.set_ticklabels(['12am', '1am', '2am', '3am', '4am', '5am', '6am', '7am', '8am', '9am', '10am', '11am', '12pm', '1pm', '2pm', '3pm', '4pm', '5pm', '6pm', '7pm', '8pm', '9pm', '10pm', '11pm'], fontsize = 8);\n",
        "ax.yaxis.set_ticklabels(['0.00','0.02','0.04','0.06','0.08','0.10'], fontsize = 8);\n",
        "plt.legend([\"female\",\"male\"], fontsize='small');\n",
        "ax.set_ylabel (\"Number of Rides\");\n",
        "ax.set_xlabel (\"Time of Day\");"
      ],
      "metadata": {
        "colab": {
          "base_uri": "https://localhost:8080/",
          "height": 467
        },
        "id": "siXQavGzjc-1",
        "outputId": "8db5e973-9a2c-4b5e-9633-860c8f2edfb1"
      },
      "execution_count": null,
      "outputs": [
        {
          "output_type": "display_data",
          "data": {
            "text/plain": [
              "<Figure size 640x480 with 1 Axes>"
            ],
            "image/png": "[encoded data removed]"
          },
          "metadata": {}
        }
      ]
    },
    {
      "cell_type": "markdown",
      "source": [
        "#####**Figure 2.2** Distribution of Citibike user data by gender and time of day, normalized"
      ],
      "metadata": {
        "id": "VtkyU0JtyUoI"
      }
    },
    {
      "cell_type": "markdown",
      "source": [
        "###**Set up Test of Proportions**\n",
        "---"
      ],
      "metadata": {
        "id": "aYlITxMvyl8e"
      }
    },
    {
      "cell_type": "code",
      "source": [
        "fig = plt.figure(figsize=(10,3))\n",
        "ax1 = fig.add_subplot(121)\n",
        "ax2 = fig.add_subplot(122)\n",
        "\n",
        "night_w = (sum(counts_w[0:5])+sum(counts_w[20:23])) * 1.0 / norm_w  #fraction of women riding on week days\n",
        "day_w = sum(counts_w[5:20]) * 1.0 / norm_w  #fraction of women riding on weekends\n",
        "eday_w = error_w / norm_w  #error on fraction number of women riding on week days\n",
        "enight_w = errnight_w / norm_w #error on fraction number of women riding on weekends\n",
        "\n",
        "#same nomenclature as above\n",
        "night_m = (sum(counts_m[0:5])+sum(counts_m[20:23])) * 1.0 / norm_m\n",
        "day_m = sum(counts_m[5:20]) * 1.0 / norm_m\n",
        "eday_m= error_m / norm_m  #error on fraction number of men riding on week days\n",
        "enight_m = errnight_m / norm_m #error on fraction number of men riding on weekends\n",
        "\n",
        "print(\"Men: week:{0:.3f}, weekend:{1:.3f}, weekend error:{2:.3f}, weekend error:{3:.3f}\"\\\n",
        "      .format(night_m, day_m, enight_m, eday_m))\n",
        "print(\"Women: week:{0:.3f}, weekend:{1:.3f}, weekend error:{2:.3f}, weekend error:{3:.3f}\"\\\n",
        "      .format(night_w, day_w, enight_w, eday_w))\n",
        "\n",
        "ax1.errorbar([0.4], [day_m], yerr=[eday_m], fmt='o', label='men');\n",
        "ax1.errorbar([0.2], [day_w], yerr=[eday_w], fmt='o', label='women');\n",
        "ax1.set_xlim(0, 0.5);\n",
        "ax2.errorbar([0.4], [night_m], yerr=[enight_m], fmt='o', label='men');\n",
        "ax2.errorbar([0.2], [night_w], yerr=[enight_w], fmt='o', label='women');\n",
        "ax1.set_xlim(0, 0.5);\n",
        "ax1.set_title(\"days\");\n",
        "ax2.set_title(\"nights\");\n",
        "ax2.set_ylabel(\"Fraction of normalized rides by gender\");\n",
        "ax1.set_ylabel(\"Fraction of normalized rides by gender\");\n",
        "ax1.set_xticks([]);\n",
        "ax2.set_xticks([]);\n",
        "plt.xlim(-0.5, 1.5);\n",
        "plt.legend();"
      ],
      "metadata": {
        "colab": {
          "base_uri": "https://localhost:8080/",
          "height": 324
        },
        "id": "r17nIJOgju6P",
        "outputId": "a31a0eb2-cad3-4f94-fa62-50768dc0b4c7"
      },
      "execution_count": null,
      "outputs": [
        {
          "output_type": "stream",
          "name": "stdout",
          "text": [
            "Men: week:0.114, weekend:0.870, weekend error:0.027, weekend error:0.003\n",
            "Women: week:0.093, weekend:0.895, weekend error:0.028, weekend error:0.002\n"
          ]
        },
        {
          "output_type": "display_data",
          "data": {
            "text/plain": [
              "<Figure size 1000x300 with 2 Axes>"
            ],
            "image/png": "[encoded data removed]"
          },
          "metadata": {}
        }
      ]
    },
    {
      "cell_type": "markdown",
      "source": [
        "#####**Figure 2.3** Fraction of Citibike users by gender in May 2019, separated by day and night usage"
      ],
      "metadata": {
        "id": "CjnI-sq-yzKl"
      }
    },
    {
      "cell_type": "code",
      "source": [
        "P0mP1 = night_m - night_w\n",
        "print (\"The difference between men and women biking at night: {:.2f}\".format(P0mP1))\n",
        "if P0mP1 <= 0:\n",
        "    # we are done...\n",
        "    print(\"In accordance with Null Hypothesis\")\n",
        "else:\n",
        "    # morework to do\n",
        "    print (\"We must check the significance before we reject the Null Hypothesis\")"
      ],
      "metadata": {
        "colab": {
          "base_uri": "https://localhost:8080/"
        },
        "id": "Xw5QYad2LbwM",
        "outputId": "00ec3889-37e1-4515-d6eb-0fd31fb5050c"
      },
      "execution_count": null,
      "outputs": [
        {
          "output_type": "stream",
          "name": "stdout",
          "text": [
            "The difference between men and women biking at night: 0.02\n",
            "We must check the significance before we reject the Null Hypothesis\n"
          ]
        }
      ]
    },
    {
      "cell_type": "code",
      "source": [
        "# defining the functions that calculate the statistics\n",
        "# the lambda style definition is NOT APPROVED BY PEP8 and you should avoind it\n",
        "# but I am putting it here since you may encounter it in your coding life.\n",
        "# confront the equation in the markdown cell above with these function to understand as they work\n",
        "\n",
        "def ztest_p(p0, p1, n0, n1):\n",
        "  return (p0 * n0 + p1 * n1) / (n0 + n1)\n",
        "def ztest_se(p0, p1, n0, n1):\n",
        "  p = ztest_p(p0, p1, n0, n1)\n",
        "  return np.sqrt(p * (1 - p) * (1.0 / n0 + 1.0 / n1)) #standard error\n",
        "def zscore(p0, p1, n0, n1) :\n",
        "  return (p0 - p1) / ztest_se(p0, p1, n0, n1)\n",
        "\n",
        "# calculations\n",
        "\n",
        "z = zscore(night_m, night_w, norm_w, norm_m)\n",
        "print (\"The z statistics is %.2f\"%z)"
      ],
      "metadata": {
        "colab": {
          "base_uri": "https://localhost:8080/"
        },
        "id": "9TY_1rzWMYNG",
        "outputId": "0751c274-8f3e-47bb-cd18-2e309347116f"
      },
      "execution_count": null,
      "outputs": [
        {
          "output_type": "stream",
          "name": "stdout",
          "text": [
            "The z statistics is 29.54\n"
          ]
        }
      ]
    },
    {
      "cell_type": "code",
      "source": [
        "def r_effectsize (z, n0, n1) :\n",
        "  return z / np.sqrt(n0 + n0)\n",
        "def h_effectsize (p0, p1):\n",
        "  return 2 * (np.arcsin(np.sqrt(p0)) - np.arcsin(np.sqrt(p1)))"
      ],
      "metadata": {
        "id": "JblGi8B9Qyti"
      },
      "execution_count": null,
      "outputs": []
    },
    {
      "cell_type": "code",
      "source": [
        "r = r_effectsize(z, norm_w, norm_m)\n",
        "print ('r effect size {:.2f}'.format(r))"
      ],
      "metadata": {
        "colab": {
          "base_uri": "https://localhost:8080/"
        },
        "id": "Z1OKhJQnS6kV",
        "outputId": "c41eb909-c4a9-455e-acc0-3c7ec70340c2"
      },
      "execution_count": null,
      "outputs": [
        {
          "output_type": "stream",
          "name": "stdout",
          "text": [
            "r effect size 0.04\n"
          ]
        }
      ]
    },
    {
      "cell_type": "code",
      "source": [
        "h = h_effectsize(night_m, night_w)\n",
        "print (\"Cohen's h effect size {:.2f}\".format(h))"
      ],
      "metadata": {
        "colab": {
          "base_uri": "https://localhost:8080/"
        },
        "id": "Rd8NjT3QS9TX",
        "outputId": "3975e54c-59d8-4691-d87b-3047fe3b4a71"
      },
      "execution_count": null,
      "outputs": [
        {
          "output_type": "stream",
          "name": "stdout",
          "text": [
            "Cohen's h effect size 0.07\n"
          ]
        }
      ]
    },
    {
      "cell_type": "code",
      "source": [],
      "metadata": {
        "id": "E-0B2KBuS_9K"
      },
      "execution_count": null,
      "outputs": []
    }
  ]
}
