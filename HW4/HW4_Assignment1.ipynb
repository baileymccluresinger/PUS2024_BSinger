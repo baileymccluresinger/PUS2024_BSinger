{
  "nbformat": 4,
  "nbformat_minor": 0,
  "metadata": {
    "colab": {
      "provenance": [],
      "authorship_tag": "ABX9TyNHyA8M57TnHsC7KLcxhUkT",
      "include_colab_link": true
    },
    "kernelspec": {
      "name": "python3",
      "display_name": "Python 3"
    },
    "language_info": {
      "name": "python"
    }
  },
  "cells": [
    {
      "cell_type": "markdown",
      "metadata": {
        "id": "view-in-github",
        "colab_type": "text"
      },
      "source": [
        "<a href=\"https://colab.research.google.com/github/baileymccluresinger/PUS2024_BSinger/blob/main/HW4/HW4_Assignment1.ipynb\" target=\"_parent\"><img src=\"https://colab.research.google.com/assets/colab-badge.svg\" alt=\"Open In Colab\"/></a>"
      ]
    },
    {
      "cell_type": "markdown",
      "source": [
        "#**Assignment 1: Walking Speed Linear Regression**\n",
        "---"
      ],
      "metadata": {
        "id": "JwnSm-LulaKi"
      }
    },
    {
      "cell_type": "markdown",
      "source": [
        "###**Data**\n",
        "---"
      ],
      "metadata": {
        "id": "_q0zCV7mlneZ"
      }
    },
    {
      "cell_type": "code",
      "execution_count": 2,
      "metadata": {
        "id": "51kfAW_NZGVj"
      },
      "outputs": [],
      "source": [
        "import pandas as pd\n",
        "df = pd.read_csv(\"https://raw.githubusercontent.com/fedhere/PUS2024/main/data/walkingspeed_Bettencourt07.csv\",\n",
        "                   header=None, names=[\"population\", \"wspeed\", \"city\"])"
      ]
    },
    {
      "cell_type": "code",
      "source": [
        "df"
      ],
      "metadata": {
        "colab": {
          "base_uri": "https://localhost:8080/",
          "height": 514
        },
        "id": "Q3HRvBXXZI4P",
        "outputId": "97a7adb2-a0c2-453b-817d-d78d6213fff3"
      },
      "execution_count": 3,
      "outputs": [
        {
          "output_type": "execute_result",
          "data": {
            "text/plain": [
              "    population  wspeed  city\n",
              "0       2520.0    2.28   NaN\n",
              "1        370.0    2.79   NaN\n",
              "2       5650.0    3.37   NaN\n",
              "3      14100.0    3.76   NaN\n",
              "4      23300.0    3.31   NaN\n",
              "5      52600.0    4.91   NaN\n",
              "6      73300.0    4.40   NaN\n",
              "7      77100.0    3.90   NaN\n",
              "8     145000.0    4.40   NaN\n",
              "9     320000.0    4.49   NaN\n",
              "10    341000.0    4.89   NaN\n",
              "11    896000.0    5.23   NaN\n",
              "12   2620000.0    5.08   NaN\n",
              "13   1420000.0    5.68   NaN\n",
              "14   1070000.0    5.93   NaN"
            ],
            "text/html": [
              "\n",
              "  <div id=\"df-c0c1b56b-e11a-42bc-9752-d14a6f1d9875\" class=\"colab-df-container\">\n",
              "    <div>\n",
              "<style scoped>\n",
              "    .dataframe tbody tr th:only-of-type {\n",
              "        vertical-align: middle;\n",
              "    }\n",
              "\n",
              "    .dataframe tbody tr th {\n",
              "        vertical-align: top;\n",
              "    }\n",
              "\n",
              "    .dataframe thead th {\n",
              "        text-align: right;\n",
              "    }\n",
              "</style>\n",
              "<table border=\"1\" class=\"dataframe\">\n",
              "  <thead>\n",
              "    <tr style=\"text-align: right;\">\n",
              "      <th></th>\n",
              "      <th>population</th>\n",
              "      <th>wspeed</th>\n",
              "      <th>city</th>\n",
              "    </tr>\n",
              "  </thead>\n",
              "  <tbody>\n",
              "    <tr>\n",
              "      <th>0</th>\n",
              "      <td>2520.0</td>\n",
              "      <td>2.28</td>\n",
              "      <td>NaN</td>\n",
              "    </tr>\n",
              "    <tr>\n",
              "      <th>1</th>\n",
              "      <td>370.0</td>\n",
              "      <td>2.79</td>\n",
              "      <td>NaN</td>\n",
              "    </tr>\n",
              "    <tr>\n",
              "      <th>2</th>\n",
              "      <td>5650.0</td>\n",
              "      <td>3.37</td>\n",
              "      <td>NaN</td>\n",
              "    </tr>\n",
              "    <tr>\n",
              "      <th>3</th>\n",
              "      <td>14100.0</td>\n",
              "      <td>3.76</td>\n",
              "      <td>NaN</td>\n",
              "    </tr>\n",
              "    <tr>\n",
              "      <th>4</th>\n",
              "      <td>23300.0</td>\n",
              "      <td>3.31</td>\n",
              "      <td>NaN</td>\n",
              "    </tr>\n",
              "    <tr>\n",
              "      <th>5</th>\n",
              "      <td>52600.0</td>\n",
              "      <td>4.91</td>\n",
              "      <td>NaN</td>\n",
              "    </tr>\n",
              "    <tr>\n",
              "      <th>6</th>\n",
              "      <td>73300.0</td>\n",
              "      <td>4.40</td>\n",
              "      <td>NaN</td>\n",
              "    </tr>\n",
              "    <tr>\n",
              "      <th>7</th>\n",
              "      <td>77100.0</td>\n",
              "      <td>3.90</td>\n",
              "      <td>NaN</td>\n",
              "    </tr>\n",
              "    <tr>\n",
              "      <th>8</th>\n",
              "      <td>145000.0</td>\n",
              "      <td>4.40</td>\n",
              "      <td>NaN</td>\n",
              "    </tr>\n",
              "    <tr>\n",
              "      <th>9</th>\n",
              "      <td>320000.0</td>\n",
              "      <td>4.49</td>\n",
              "      <td>NaN</td>\n",
              "    </tr>\n",
              "    <tr>\n",
              "      <th>10</th>\n",
              "      <td>341000.0</td>\n",
              "      <td>4.89</td>\n",
              "      <td>NaN</td>\n",
              "    </tr>\n",
              "    <tr>\n",
              "      <th>11</th>\n",
              "      <td>896000.0</td>\n",
              "      <td>5.23</td>\n",
              "      <td>NaN</td>\n",
              "    </tr>\n",
              "    <tr>\n",
              "      <th>12</th>\n",
              "      <td>2620000.0</td>\n",
              "      <td>5.08</td>\n",
              "      <td>NaN</td>\n",
              "    </tr>\n",
              "    <tr>\n",
              "      <th>13</th>\n",
              "      <td>1420000.0</td>\n",
              "      <td>5.68</td>\n",
              "      <td>NaN</td>\n",
              "    </tr>\n",
              "    <tr>\n",
              "      <th>14</th>\n",
              "      <td>1070000.0</td>\n",
              "      <td>5.93</td>\n",
              "      <td>NaN</td>\n",
              "    </tr>\n",
              "  </tbody>\n",
              "</table>\n",
              "</div>\n",
              "    <div class=\"colab-df-buttons\">\n",
              "\n",
              "  <div class=\"colab-df-container\">\n",
              "    <button class=\"colab-df-convert\" onclick=\"convertToInteractive('df-c0c1b56b-e11a-42bc-9752-d14a6f1d9875')\"\n",
              "            title=\"Convert this dataframe to an interactive table.\"\n",
              "            style=\"display:none;\">\n",
              "\n",
              "  <svg xmlns=\"http://www.w3.org/2000/svg\" height=\"24px\" viewBox=\"0 -960 960 960\">\n",
              "    <path d=\"M120-120v-720h720v720H120Zm60-500h600v-160H180v160Zm220 220h160v-160H400v160Zm0 220h160v-160H400v160ZM180-400h160v-160H180v160Zm440 0h160v-160H620v160ZM180-180h160v-160H180v160Zm440 0h160v-160H620v160Z\"/>\n",
              "  </svg>\n",
              "    </button>\n",
              "\n",
              "  <style>\n",
              "    .colab-df-container {\n",
              "      display:flex;\n",
              "      gap: 12px;\n",
              "    }\n",
              "\n",
              "    .colab-df-convert {\n",
              "      background-color: #E8F0FE;\n",
              "      border: none;\n",
              "      border-radius: 50%;\n",
              "      cursor: pointer;\n",
              "      display: none;\n",
              "      fill: #1967D2;\n",
              "      height: 32px;\n",
              "      padding: 0 0 0 0;\n",
              "      width: 32px;\n",
              "    }\n",
              "\n",
              "    .colab-df-convert:hover {\n",
              "      background-color: #E2EBFA;\n",
              "      box-shadow: 0px 1px 2px rgba(60, 64, 67, 0.3), 0px 1px 3px 1px rgba(60, 64, 67, 0.15);\n",
              "      fill: #174EA6;\n",
              "    }\n",
              "\n",
              "    .colab-df-buttons div {\n",
              "      margin-bottom: 4px;\n",
              "    }\n",
              "\n",
              "    [theme=dark] .colab-df-convert {\n",
              "      background-color: #3B4455;\n",
              "      fill: #D2E3FC;\n",
              "    }\n",
              "\n",
              "    [theme=dark] .colab-df-convert:hover {\n",
              "      background-color: #434B5C;\n",
              "      box-shadow: 0px 1px 3px 1px rgba(0, 0, 0, 0.15);\n",
              "      filter: drop-shadow(0px 1px 2px rgba(0, 0, 0, 0.3));\n",
              "      fill: #FFFFFF;\n",
              "    }\n",
              "  </style>\n",
              "\n",
              "    <script>\n",
              "      const buttonEl =\n",
              "        document.querySelector('#df-c0c1b56b-e11a-42bc-9752-d14a6f1d9875 button.colab-df-convert');\n",
              "      buttonEl.style.display =\n",
              "        google.colab.kernel.accessAllowed ? 'block' : 'none';\n",
              "\n",
              "      async function convertToInteractive(key) {\n",
              "        const element = document.querySelector('#df-c0c1b56b-e11a-42bc-9752-d14a6f1d9875');\n",
              "        const dataTable =\n",
              "          await google.colab.kernel.invokeFunction('convertToInteractive',\n",
              "                                                    [key], {});\n",
              "        if (!dataTable) return;\n",
              "\n",
              "        const docLinkHtml = 'Like what you see? Visit the ' +\n",
              "          '<a target=\"_blank\" href=https://colab.research.google.com/notebooks/data_table.ipynb>data table notebook</a>'\n",
              "          + ' to learn more about interactive tables.';\n",
              "        element.innerHTML = '';\n",
              "        dataTable['output_type'] = 'display_data';\n",
              "        await google.colab.output.renderOutput(dataTable, element);\n",
              "        const docLink = document.createElement('div');\n",
              "        docLink.innerHTML = docLinkHtml;\n",
              "        element.appendChild(docLink);\n",
              "      }\n",
              "    </script>\n",
              "  </div>\n",
              "\n",
              "\n",
              "<div id=\"df-b49c6baa-de22-4725-a8b9-6553e22e1468\">\n",
              "  <button class=\"colab-df-quickchart\" onclick=\"quickchart('df-b49c6baa-de22-4725-a8b9-6553e22e1468')\"\n",
              "            title=\"Suggest charts\"\n",
              "            style=\"display:none;\">\n",
              "\n",
              "<svg xmlns=\"http://www.w3.org/2000/svg\" height=\"24px\"viewBox=\"0 0 24 24\"\n",
              "     width=\"24px\">\n",
              "    <g>\n",
              "        <path d=\"M19 3H5c-1.1 0-2 .9-2 2v14c0 1.1.9 2 2 2h14c1.1 0 2-.9 2-2V5c0-1.1-.9-2-2-2zM9 17H7v-7h2v7zm4 0h-2V7h2v10zm4 0h-2v-4h2v4z\"/>\n",
              "    </g>\n",
              "</svg>\n",
              "  </button>\n",
              "\n",
              "<style>\n",
              "  .colab-df-quickchart {\n",
              "      --bg-color: #E8F0FE;\n",
              "      --fill-color: #1967D2;\n",
              "      --hover-bg-color: #E2EBFA;\n",
              "      --hover-fill-color: #174EA6;\n",
              "      --disabled-fill-color: #AAA;\n",
              "      --disabled-bg-color: #DDD;\n",
              "  }\n",
              "\n",
              "  [theme=dark] .colab-df-quickchart {\n",
              "      --bg-color: #3B4455;\n",
              "      --fill-color: #D2E3FC;\n",
              "      --hover-bg-color: #434B5C;\n",
              "      --hover-fill-color: #FFFFFF;\n",
              "      --disabled-bg-color: #3B4455;\n",
              "      --disabled-fill-color: #666;\n",
              "  }\n",
              "\n",
              "  .colab-df-quickchart {\n",
              "    background-color: var(--bg-color);\n",
              "    border: none;\n",
              "    border-radius: 50%;\n",
              "    cursor: pointer;\n",
              "    display: none;\n",
              "    fill: var(--fill-color);\n",
              "    height: 32px;\n",
              "    padding: 0;\n",
              "    width: 32px;\n",
              "  }\n",
              "\n",
              "  .colab-df-quickchart:hover {\n",
              "    background-color: var(--hover-bg-color);\n",
              "    box-shadow: 0 1px 2px rgba(60, 64, 67, 0.3), 0 1px 3px 1px rgba(60, 64, 67, 0.15);\n",
              "    fill: var(--button-hover-fill-color);\n",
              "  }\n",
              "\n",
              "  .colab-df-quickchart-complete:disabled,\n",
              "  .colab-df-quickchart-complete:disabled:hover {\n",
              "    background-color: var(--disabled-bg-color);\n",
              "    fill: var(--disabled-fill-color);\n",
              "    box-shadow: none;\n",
              "  }\n",
              "\n",
              "  .colab-df-spinner {\n",
              "    border: 2px solid var(--fill-color);\n",
              "    border-color: transparent;\n",
              "    border-bottom-color: var(--fill-color);\n",
              "    animation:\n",
              "      spin 1s steps(1) infinite;\n",
              "  }\n",
              "\n",
              "  @keyframes spin {\n",
              "    0% {\n",
              "      border-color: transparent;\n",
              "      border-bottom-color: var(--fill-color);\n",
              "      border-left-color: var(--fill-color);\n",
              "    }\n",
              "    20% {\n",
              "      border-color: transparent;\n",
              "      border-left-color: var(--fill-color);\n",
              "      border-top-color: var(--fill-color);\n",
              "    }\n",
              "    30% {\n",
              "      border-color: transparent;\n",
              "      border-left-color: var(--fill-color);\n",
              "      border-top-color: var(--fill-color);\n",
              "      border-right-color: var(--fill-color);\n",
              "    }\n",
              "    40% {\n",
              "      border-color: transparent;\n",
              "      border-right-color: var(--fill-color);\n",
              "      border-top-color: var(--fill-color);\n",
              "    }\n",
              "    60% {\n",
              "      border-color: transparent;\n",
              "      border-right-color: var(--fill-color);\n",
              "    }\n",
              "    80% {\n",
              "      border-color: transparent;\n",
              "      border-right-color: var(--fill-color);\n",
              "      border-bottom-color: var(--fill-color);\n",
              "    }\n",
              "    90% {\n",
              "      border-color: transparent;\n",
              "      border-bottom-color: var(--fill-color);\n",
              "    }\n",
              "  }\n",
              "</style>\n",
              "\n",
              "  <script>\n",
              "    async function quickchart(key) {\n",
              "      const quickchartButtonEl =\n",
              "        document.querySelector('#' + key + ' button');\n",
              "      quickchartButtonEl.disabled = true;  // To prevent multiple clicks.\n",
              "      quickchartButtonEl.classList.add('colab-df-spinner');\n",
              "      try {\n",
              "        const charts = await google.colab.kernel.invokeFunction(\n",
              "            'suggestCharts', [key], {});\n",
              "      } catch (error) {\n",
              "        console.error('Error during call to suggestCharts:', error);\n",
              "      }\n",
              "      quickchartButtonEl.classList.remove('colab-df-spinner');\n",
              "      quickchartButtonEl.classList.add('colab-df-quickchart-complete');\n",
              "    }\n",
              "    (() => {\n",
              "      let quickchartButtonEl =\n",
              "        document.querySelector('#df-b49c6baa-de22-4725-a8b9-6553e22e1468 button');\n",
              "      quickchartButtonEl.style.display =\n",
              "        google.colab.kernel.accessAllowed ? 'block' : 'none';\n",
              "    })();\n",
              "  </script>\n",
              "</div>\n",
              "\n",
              "  <div id=\"id_4bd14aa6-bfc0-480a-b309-e31261f026e3\">\n",
              "    <style>\n",
              "      .colab-df-generate {\n",
              "        background-color: #E8F0FE;\n",
              "        border: none;\n",
              "        border-radius: 50%;\n",
              "        cursor: pointer;\n",
              "        display: none;\n",
              "        fill: #1967D2;\n",
              "        height: 32px;\n",
              "        padding: 0 0 0 0;\n",
              "        width: 32px;\n",
              "      }\n",
              "\n",
              "      .colab-df-generate:hover {\n",
              "        background-color: #E2EBFA;\n",
              "        box-shadow: 0px 1px 2px rgba(60, 64, 67, 0.3), 0px 1px 3px 1px rgba(60, 64, 67, 0.15);\n",
              "        fill: #174EA6;\n",
              "      }\n",
              "\n",
              "      [theme=dark] .colab-df-generate {\n",
              "        background-color: #3B4455;\n",
              "        fill: #D2E3FC;\n",
              "      }\n",
              "\n",
              "      [theme=dark] .colab-df-generate:hover {\n",
              "        background-color: #434B5C;\n",
              "        box-shadow: 0px 1px 3px 1px rgba(0, 0, 0, 0.15);\n",
              "        filter: drop-shadow(0px 1px 2px rgba(0, 0, 0, 0.3));\n",
              "        fill: #FFFFFF;\n",
              "      }\n",
              "    </style>\n",
              "    <button class=\"colab-df-generate\" onclick=\"generateWithVariable('df')\"\n",
              "            title=\"Generate code using this dataframe.\"\n",
              "            style=\"display:none;\">\n",
              "\n",
              "  <svg xmlns=\"http://www.w3.org/2000/svg\" height=\"24px\"viewBox=\"0 0 24 24\"\n",
              "       width=\"24px\">\n",
              "    <path d=\"M7,19H8.4L18.45,9,17,7.55,7,17.6ZM5,21V16.75L18.45,3.32a2,2,0,0,1,2.83,0l1.4,1.43a1.91,1.91,0,0,1,.58,1.4,1.91,1.91,0,0,1-.58,1.4L9.25,21ZM18.45,9,17,7.55Zm-12,3A5.31,5.31,0,0,0,4.9,8.1,5.31,5.31,0,0,0,1,6.5,5.31,5.31,0,0,0,4.9,4.9,5.31,5.31,0,0,0,6.5,1,5.31,5.31,0,0,0,8.1,4.9,5.31,5.31,0,0,0,12,6.5,5.46,5.46,0,0,0,6.5,12Z\"/>\n",
              "  </svg>\n",
              "    </button>\n",
              "    <script>\n",
              "      (() => {\n",
              "      const buttonEl =\n",
              "        document.querySelector('#id_4bd14aa6-bfc0-480a-b309-e31261f026e3 button.colab-df-generate');\n",
              "      buttonEl.style.display =\n",
              "        google.colab.kernel.accessAllowed ? 'block' : 'none';\n",
              "\n",
              "      buttonEl.onclick = () => {\n",
              "        google.colab.notebook.generateWithVariable('df');\n",
              "      }\n",
              "      })();\n",
              "    </script>\n",
              "  </div>\n",
              "\n",
              "    </div>\n",
              "  </div>\n"
            ],
            "application/vnd.google.colaboratory.intrinsic+json": {
              "type": "dataframe",
              "variable_name": "df",
              "summary": "{\n  \"name\": \"df\",\n  \"rows\": 15,\n  \"fields\": [\n    {\n      \"column\": \"population\",\n      \"properties\": {\n        \"dtype\": \"number\",\n        \"std\": 744469.8300945126,\n        \"min\": 370.0,\n        \"max\": 2620000.0,\n        \"num_unique_values\": 15,\n        \"samples\": [\n          320000.0,\n          896000.0,\n          2520.0\n        ],\n        \"semantic_type\": \"\",\n        \"description\": \"\"\n      }\n    },\n    {\n      \"column\": \"wspeed\",\n      \"properties\": {\n        \"dtype\": \"number\",\n        \"std\": 1.0511073525890047,\n        \"min\": 2.28,\n        \"max\": 5.93,\n        \"num_unique_values\": 14,\n        \"samples\": [\n          4.89,\n          5.08,\n          2.28\n        ],\n        \"semantic_type\": \"\",\n        \"description\": \"\"\n      }\n    },\n    {\n      \"column\": \"city\",\n      \"properties\": {\n        \"dtype\": \"number\",\n        \"std\": null,\n        \"min\": null,\n        \"max\": null,\n        \"num_unique_values\": 0,\n        \"samples\": [],\n        \"semantic_type\": \"\",\n        \"description\": \"\"\n      }\n    }\n  ]\n}"
            }
          },
          "metadata": {},
          "execution_count": 3
        }
      ]
    },
    {
      "cell_type": "code",
      "source": [
        "# make a plot of the walking speed (y) vs population (x)\n",
        "ax = df.plot(\"population\", \"wspeed\", kind=\"scatter\")\n",
        "ax.ticklabel_format(style='plain')\n",
        "ax.set_xlabel(\"population\");"
      ],
      "metadata": {
        "colab": {
          "base_uri": "https://localhost:8080/",
          "height": 449
        },
        "id": "4N6vSt1bnikj",
        "outputId": "ff5bde22-a666-4880-e31a-aca21fa0693a"
      },
      "execution_count": 4,
      "outputs": [
        {
          "output_type": "display_data",
          "data": {
            "text/plain": [
              "<Figure size 640x480 with 1 Axes>"
            ],
            "image/png": "[encoded data removed]"
          },
          "metadata": {}
        }
      ]
    },
    {
      "cell_type": "markdown",
      "source": [
        "#####**Figure 1.1** A dataset of walking speed values as a function of population size is shown. The relationship appears to be monotonically increasing on both variables; however, it is not linear.\n",
        "\n",
        "#####The points do not distribute in a line pattern in this space: the linear relationship is predicted in log normal space, which means we expect a linear relationship between the walking speed and the logarithm (base 10) of the population."
      ],
      "metadata": {
        "id": "pLo8HtFHnsX5"
      }
    },
    {
      "cell_type": "code",
      "source": [
        "#create a logaritmic exogenous variable (x)\n",
        "import numpy as np\n",
        "df[\"population\"] = np.log10(df.population)"
      ],
      "metadata": {
        "id": "8vt-A2agnmF9"
      },
      "execution_count": 5,
      "outputs": []
    },
    {
      "cell_type": "code",
      "source": [
        "ax = df.plot(\"population\", \"wspeed\", kind=\"scatter\")\n",
        "ax.set_xlabel(\"population - log10 scale\");"
      ],
      "metadata": {
        "colab": {
          "base_uri": "https://localhost:8080/",
          "height": 449
        },
        "id": "uGyjXbaFiOUh",
        "outputId": "7c3be303-977a-4253-d20a-89b044fb3d98"
      },
      "execution_count": 6,
      "outputs": [
        {
          "output_type": "display_data",
          "data": {
            "text/plain": [
              "<Figure size 640x480 with 1 Axes>"
            ],
            "image/png": "[encoded data removed]"
          },
          "metadata": {}
        }
      ]
    },
    {
      "cell_type": "markdown",
      "source": [
        "#####**Figure 1.2** Same plot as above but in a linear-log scale. The data shows a potentially linear relationship between walking spead and log10 population."
      ],
      "metadata": {
        "id": "Y6bFBWk1igw-"
      }
    },
    {
      "cell_type": "markdown",
      "source": [
        "###**Plotting with Seaborn**\n",
        "---"
      ],
      "metadata": {
        "id": "60ojPbH2l1uI"
      }
    },
    {
      "cell_type": "code",
      "source": [
        "import seaborn as sns\n",
        "ax = sns.regplot(x=df['population'], y=df['wspeed'])\n",
        "ax.set_xlabel(\"population - log10 scale\");"
      ],
      "metadata": {
        "colab": {
          "base_uri": "https://localhost:8080/",
          "height": 449
        },
        "id": "7TkSGkcniVfa",
        "outputId": "095564f3-dd41-4176-933f-28fbac490b3f"
      },
      "execution_count": 7,
      "outputs": [
        {
          "output_type": "display_data",
          "data": {
            "text/plain": [
              "<Figure size 640x480 with 1 Axes>"
            ],
            "image/png": "[encoded data removed]"
          },
          "metadata": {}
        }
      ]
    },
    {
      "cell_type": "markdown",
      "source": [
        "#####**Figure 1.3** A linear fit to the data in Figure 1.1 and 1.2 performed with seaborn. The plot shows the linear fit best model and the model uncertainty.\n",
        "\n"
      ],
      "metadata": {
        "id": "l8FTk8Ymiw76"
      }
    },
    {
      "cell_type": "markdown",
      "source": [
        "##**Four Main Ways to Fit a Line to Data with Python**\n",
        "---"
      ],
      "metadata": {
        "id": "Z3LQEzeCmqi3"
      }
    },
    {
      "cell_type": "markdown",
      "source": [
        "###**1. Minimizing an Objective Function Directly *by Hand***\n",
        "---"
      ],
      "metadata": {
        "id": "B-IpV7QXm7YU"
      }
    },
    {
      "cell_type": "code",
      "source": [
        "# make a function for the model (a line)\n",
        "def line(x, slope, intercept):\n",
        "  ''' generates y values for a line for a set of x values with a given slope and intercept\n",
        "  Input:\n",
        "  x : series of numbers (vector): the x axis or support\n",
        "  slope: the slope of the line (float or interger)\n",
        "  intercept: the intercept of the line (float or interger)\n",
        "  '''\n",
        "  return slope * x + intercept"
      ],
      "metadata": {
        "id": "aBvJlxVzipxn"
      },
      "execution_count": 8,
      "outputs": []
    },
    {
      "cell_type": "code",
      "source": [
        "# define the objective function: sum squared errors (SSE)\n",
        "def sumsqerror(y, yp):\n",
        "  ''' calculates the Sum of the errors squared (SSE) for a model and a set of observations\n",
        "  Input:\n",
        "  y : series of numbers (vector): the observations\n",
        "  yp : series of numbers (vector): the predictions\n",
        "  '''\n",
        "  return ((y - yp) ** 2).sum()"
      ],
      "metadata": {
        "id": "c6vbIAsMVgcc"
      },
      "execution_count": 9,
      "outputs": []
    },
    {
      "cell_type": "code",
      "source": [
        "minnow = 1e7 #set a high value for the initial solution\n",
        "for s in np.arange(0, 3, 0.01): # for e set of possible slopes\n",
        "  for i in np.arange(0, 2.5, 0.01): # for e set of possible intercepts\n",
        "    prediction = line(df[\"population\"], s, i)\n",
        "    sse = sumsqerror(df[\"wspeed\"], prediction)\n",
        "    if sse < minnow: # if I find a bettter solution than the previous ones\n",
        "      minnow = sse #replace the old solution with the new minimum\n",
        "      slope_manual, inrercept_manual = s, i #record the corresponding best (for now) slope and intercept\n",
        "\n",
        "print(\"best slope {:.2f} and intercept {:.2f}\".format(slope_manual, inrercept_manual))"
      ],
      "metadata": {
        "colab": {
          "base_uri": "https://localhost:8080/"
        },
        "id": "dIFqKjwMVmmk",
        "outputId": "e4cadef8-a916-4b61-9653-e318e375333c"
      },
      "execution_count": 10,
      "outputs": [
        {
          "output_type": "stream",
          "name": "stdout",
          "text": [
            "best slope 0.87 and intercept 0.03\n"
          ]
        }
      ]
    },
    {
      "cell_type": "code",
      "source": [
        "#store the manual fit predictions in a series in the df\n",
        "df[\"prediction_manual\"] = line(df[\"population\"], slope_manual, inrercept_manual)\n",
        "df.head()"
      ],
      "metadata": {
        "colab": {
          "base_uri": "https://localhost:8080/",
          "height": 204
        },
        "id": "E0Mhq6ctVryr",
        "outputId": "a50e98b5-adae-4227-d54e-cdff9e490c13"
      },
      "execution_count": 11,
      "outputs": [
        {
          "output_type": "execute_result",
          "data": {
            "text/plain": [
              "   population  wspeed  city  prediction_manual\n",
              "0    3.401401    2.28   NaN           2.989218\n",
              "1    2.568202    2.79   NaN           2.264335\n",
              "2    3.752048    3.37   NaN           3.294282\n",
              "3    4.149219    3.76   NaN           3.639821\n",
              "4    4.367356    3.31   NaN           3.829600"
            ],
            "text/html": [
              "\n",
              "  <div id=\"df-b1ba3dee-e861-4c00-8bf4-2942eae00be9\" class=\"colab-df-container\">\n",
              "    <div>\n",
              "<style scoped>\n",
              "    .dataframe tbody tr th:only-of-type {\n",
              "        vertical-align: middle;\n",
              "    }\n",
              "\n",
              "    .dataframe tbody tr th {\n",
              "        vertical-align: top;\n",
              "    }\n",
              "\n",
              "    .dataframe thead th {\n",
              "        text-align: right;\n",
              "    }\n",
              "</style>\n",
              "<table border=\"1\" class=\"dataframe\">\n",
              "  <thead>\n",
              "    <tr style=\"text-align: right;\">\n",
              "      <th></th>\n",
              "      <th>population</th>\n",
              "      <th>wspeed</th>\n",
              "      <th>city</th>\n",
              "      <th>prediction_manual</th>\n",
              "    </tr>\n",
              "  </thead>\n",
              "  <tbody>\n",
              "    <tr>\n",
              "      <th>0</th>\n",
              "      <td>3.401401</td>\n",
              "      <td>2.28</td>\n",
              "      <td>NaN</td>\n",
              "      <td>2.989218</td>\n",
              "    </tr>\n",
              "    <tr>\n",
              "      <th>1</th>\n",
              "      <td>2.568202</td>\n",
              "      <td>2.79</td>\n",
              "      <td>NaN</td>\n",
              "      <td>2.264335</td>\n",
              "    </tr>\n",
              "    <tr>\n",
              "      <th>2</th>\n",
              "      <td>3.752048</td>\n",
              "      <td>3.37</td>\n",
              "      <td>NaN</td>\n",
              "      <td>3.294282</td>\n",
              "    </tr>\n",
              "    <tr>\n",
              "      <th>3</th>\n",
              "      <td>4.149219</td>\n",
              "      <td>3.76</td>\n",
              "      <td>NaN</td>\n",
              "      <td>3.639821</td>\n",
              "    </tr>\n",
              "    <tr>\n",
              "      <th>4</th>\n",
              "      <td>4.367356</td>\n",
              "      <td>3.31</td>\n",
              "      <td>NaN</td>\n",
              "      <td>3.829600</td>\n",
              "    </tr>\n",
              "  </tbody>\n",
              "</table>\n",
              "</div>\n",
              "    <div class=\"colab-df-buttons\">\n",
              "\n",
              "  <div class=\"colab-df-container\">\n",
              "    <button class=\"colab-df-convert\" onclick=\"convertToInteractive('df-b1ba3dee-e861-4c00-8bf4-2942eae00be9')\"\n",
              "            title=\"Convert this dataframe to an interactive table.\"\n",
              "            style=\"display:none;\">\n",
              "\n",
              "  <svg xmlns=\"http://www.w3.org/2000/svg\" height=\"24px\" viewBox=\"0 -960 960 960\">\n",
              "    <path d=\"M120-120v-720h720v720H120Zm60-500h600v-160H180v160Zm220 220h160v-160H400v160Zm0 220h160v-160H400v160ZM180-400h160v-160H180v160Zm440 0h160v-160H620v160ZM180-180h160v-160H180v160Zm440 0h160v-160H620v160Z\"/>\n",
              "  </svg>\n",
              "    </button>\n",
              "\n",
              "  <style>\n",
              "    .colab-df-container {\n",
              "      display:flex;\n",
              "      gap: 12px;\n",
              "    }\n",
              "\n",
              "    .colab-df-convert {\n",
              "      background-color: #E8F0FE;\n",
              "      border: none;\n",
              "      border-radius: 50%;\n",
              "      cursor: pointer;\n",
              "      display: none;\n",
              "      fill: #1967D2;\n",
              "      height: 32px;\n",
              "      padding: 0 0 0 0;\n",
              "      width: 32px;\n",
              "    }\n",
              "\n",
              "    .colab-df-convert:hover {\n",
              "      background-color: #E2EBFA;\n",
              "      box-shadow: 0px 1px 2px rgba(60, 64, 67, 0.3), 0px 1px 3px 1px rgba(60, 64, 67, 0.15);\n",
              "      fill: #174EA6;\n",
              "    }\n",
              "\n",
              "    .colab-df-buttons div {\n",
              "      margin-bottom: 4px;\n",
              "    }\n",
              "\n",
              "    [theme=dark] .colab-df-convert {\n",
              "      background-color: #3B4455;\n",
              "      fill: #D2E3FC;\n",
              "    }\n",
              "\n",
              "    [theme=dark] .colab-df-convert:hover {\n",
              "      background-color: #434B5C;\n",
              "      box-shadow: 0px 1px 3px 1px rgba(0, 0, 0, 0.15);\n",
              "      filter: drop-shadow(0px 1px 2px rgba(0, 0, 0, 0.3));\n",
              "      fill: #FFFFFF;\n",
              "    }\n",
              "  </style>\n",
              "\n",
              "    <script>\n",
              "      const buttonEl =\n",
              "        document.querySelector('#df-b1ba3dee-e861-4c00-8bf4-2942eae00be9 button.colab-df-convert');\n",
              "      buttonEl.style.display =\n",
              "        google.colab.kernel.accessAllowed ? 'block' : 'none';\n",
              "\n",
              "      async function convertToInteractive(key) {\n",
              "        const element = document.querySelector('#df-b1ba3dee-e861-4c00-8bf4-2942eae00be9');\n",
              "        const dataTable =\n",
              "          await google.colab.kernel.invokeFunction('convertToInteractive',\n",
              "                                                    [key], {});\n",
              "        if (!dataTable) return;\n",
              "\n",
              "        const docLinkHtml = 'Like what you see? Visit the ' +\n",
              "          '<a target=\"_blank\" href=https://colab.research.google.com/notebooks/data_table.ipynb>data table notebook</a>'\n",
              "          + ' to learn more about interactive tables.';\n",
              "        element.innerHTML = '';\n",
              "        dataTable['output_type'] = 'display_data';\n",
              "        await google.colab.output.renderOutput(dataTable, element);\n",
              "        const docLink = document.createElement('div');\n",
              "        docLink.innerHTML = docLinkHtml;\n",
              "        element.appendChild(docLink);\n",
              "      }\n",
              "    </script>\n",
              "  </div>\n",
              "\n",
              "\n",
              "<div id=\"df-f8caf5d1-2d9a-4d63-bf59-c56e9a9d8625\">\n",
              "  <button class=\"colab-df-quickchart\" onclick=\"quickchart('df-f8caf5d1-2d9a-4d63-bf59-c56e9a9d8625')\"\n",
              "            title=\"Suggest charts\"\n",
              "            style=\"display:none;\">\n",
              "\n",
              "<svg xmlns=\"http://www.w3.org/2000/svg\" height=\"24px\"viewBox=\"0 0 24 24\"\n",
              "     width=\"24px\">\n",
              "    <g>\n",
              "        <path d=\"M19 3H5c-1.1 0-2 .9-2 2v14c0 1.1.9 2 2 2h14c1.1 0 2-.9 2-2V5c0-1.1-.9-2-2-2zM9 17H7v-7h2v7zm4 0h-2V7h2v10zm4 0h-2v-4h2v4z\"/>\n",
              "    </g>\n",
              "</svg>\n",
              "  </button>\n",
              "\n",
              "<style>\n",
              "  .colab-df-quickchart {\n",
              "      --bg-color: #E8F0FE;\n",
              "      --fill-color: #1967D2;\n",
              "      --hover-bg-color: #E2EBFA;\n",
              "      --hover-fill-color: #174EA6;\n",
              "      --disabled-fill-color: #AAA;\n",
              "      --disabled-bg-color: #DDD;\n",
              "  }\n",
              "\n",
              "  [theme=dark] .colab-df-quickchart {\n",
              "      --bg-color: #3B4455;\n",
              "      --fill-color: #D2E3FC;\n",
              "      --hover-bg-color: #434B5C;\n",
              "      --hover-fill-color: #FFFFFF;\n",
              "      --disabled-bg-color: #3B4455;\n",
              "      --disabled-fill-color: #666;\n",
              "  }\n",
              "\n",
              "  .colab-df-quickchart {\n",
              "    background-color: var(--bg-color);\n",
              "    border: none;\n",
              "    border-radius: 50%;\n",
              "    cursor: pointer;\n",
              "    display: none;\n",
              "    fill: var(--fill-color);\n",
              "    height: 32px;\n",
              "    padding: 0;\n",
              "    width: 32px;\n",
              "  }\n",
              "\n",
              "  .colab-df-quickchart:hover {\n",
              "    background-color: var(--hover-bg-color);\n",
              "    box-shadow: 0 1px 2px rgba(60, 64, 67, 0.3), 0 1px 3px 1px rgba(60, 64, 67, 0.15);\n",
              "    fill: var(--button-hover-fill-color);\n",
              "  }\n",
              "\n",
              "  .colab-df-quickchart-complete:disabled,\n",
              "  .colab-df-quickchart-complete:disabled:hover {\n",
              "    background-color: var(--disabled-bg-color);\n",
              "    fill: var(--disabled-fill-color);\n",
              "    box-shadow: none;\n",
              "  }\n",
              "\n",
              "  .colab-df-spinner {\n",
              "    border: 2px solid var(--fill-color);\n",
              "    border-color: transparent;\n",
              "    border-bottom-color: var(--fill-color);\n",
              "    animation:\n",
              "      spin 1s steps(1) infinite;\n",
              "  }\n",
              "\n",
              "  @keyframes spin {\n",
              "    0% {\n",
              "      border-color: transparent;\n",
              "      border-bottom-color: var(--fill-color);\n",
              "      border-left-color: var(--fill-color);\n",
              "    }\n",
              "    20% {\n",
              "      border-color: transparent;\n",
              "      border-left-color: var(--fill-color);\n",
              "      border-top-color: var(--fill-color);\n",
              "    }\n",
              "    30% {\n",
              "      border-color: transparent;\n",
              "      border-left-color: var(--fill-color);\n",
              "      border-top-color: var(--fill-color);\n",
              "      border-right-color: var(--fill-color);\n",
              "    }\n",
              "    40% {\n",
              "      border-color: transparent;\n",
              "      border-right-color: var(--fill-color);\n",
              "      border-top-color: var(--fill-color);\n",
              "    }\n",
              "    60% {\n",
              "      border-color: transparent;\n",
              "      border-right-color: var(--fill-color);\n",
              "    }\n",
              "    80% {\n",
              "      border-color: transparent;\n",
              "      border-right-color: var(--fill-color);\n",
              "      border-bottom-color: var(--fill-color);\n",
              "    }\n",
              "    90% {\n",
              "      border-color: transparent;\n",
              "      border-bottom-color: var(--fill-color);\n",
              "    }\n",
              "  }\n",
              "</style>\n",
              "\n",
              "  <script>\n",
              "    async function quickchart(key) {\n",
              "      const quickchartButtonEl =\n",
              "        document.querySelector('#' + key + ' button');\n",
              "      quickchartButtonEl.disabled = true;  // To prevent multiple clicks.\n",
              "      quickchartButtonEl.classList.add('colab-df-spinner');\n",
              "      try {\n",
              "        const charts = await google.colab.kernel.invokeFunction(\n",
              "            'suggestCharts', [key], {});\n",
              "      } catch (error) {\n",
              "        console.error('Error during call to suggestCharts:', error);\n",
              "      }\n",
              "      quickchartButtonEl.classList.remove('colab-df-spinner');\n",
              "      quickchartButtonEl.classList.add('colab-df-quickchart-complete');\n",
              "    }\n",
              "    (() => {\n",
              "      let quickchartButtonEl =\n",
              "        document.querySelector('#df-f8caf5d1-2d9a-4d63-bf59-c56e9a9d8625 button');\n",
              "      quickchartButtonEl.style.display =\n",
              "        google.colab.kernel.accessAllowed ? 'block' : 'none';\n",
              "    })();\n",
              "  </script>\n",
              "</div>\n",
              "\n",
              "    </div>\n",
              "  </div>\n"
            ],
            "application/vnd.google.colaboratory.intrinsic+json": {
              "type": "dataframe",
              "variable_name": "df",
              "summary": "{\n  \"name\": \"df\",\n  \"rows\": 15,\n  \"fields\": [\n    {\n      \"column\": \"population\",\n      \"properties\": {\n        \"dtype\": \"number\",\n        \"std\": 1.101065080096021,\n        \"min\": 2.568201724066995,\n        \"max\": 6.418301291319746,\n        \"num_unique_values\": 15,\n        \"samples\": [\n          5.505149978319906,\n          5.952308009662125,\n          3.401400540781544\n        ],\n        \"semantic_type\": \"\",\n        \"description\": \"\"\n      }\n    },\n    {\n      \"column\": \"wspeed\",\n      \"properties\": {\n        \"dtype\": \"number\",\n        \"std\": 1.0511073525890047,\n        \"min\": 2.28,\n        \"max\": 5.93,\n        \"num_unique_values\": 14,\n        \"samples\": [\n          4.89,\n          5.08,\n          2.28\n        ],\n        \"semantic_type\": \"\",\n        \"description\": \"\"\n      }\n    },\n    {\n      \"column\": \"city\",\n      \"properties\": {\n        \"dtype\": \"number\",\n        \"std\": null,\n        \"min\": null,\n        \"max\": null,\n        \"num_unique_values\": 0,\n        \"samples\": [],\n        \"semantic_type\": \"\",\n        \"description\": \"\"\n      }\n    },\n    {\n      \"column\": \"prediction_manual\",\n      \"properties\": {\n        \"dtype\": \"number\",\n        \"std\": 0.9579266196835382,\n        \"min\": 2.2643354999382854,\n        \"max\": 5.613922123448179,\n        \"num_unique_values\": 15,\n        \"samples\": [],\n        \"semantic_type\": \"\",\n        \"description\": \"\"\n      }\n    }\n  ]\n}"
            }
          },
          "metadata": {},
          "execution_count": 11
        }
      ]
    },
    {
      "cell_type": "code",
      "source": [
        "print (\"the best parameters SSE is {:.2f}\".format(sumsqerror(df.wspeed.values, df.prediction_manual.values)))"
      ],
      "metadata": {
        "colab": {
          "base_uri": "https://localhost:8080/"
        },
        "id": "_6bhqIAxV3HG",
        "outputId": "67afc36c-c6d6-498d-b6b0-5c2db4605b3e"
      },
      "execution_count": 12,
      "outputs": [
        {
          "output_type": "stream",
          "name": "stdout",
          "text": [
            "the best parameters SSE is 2.76\n"
          ]
        }
      ]
    },
    {
      "cell_type": "code",
      "source": [
        "ax = df.plot(\"population\", \"wspeed\", kind=\"scatter\")\n",
        "ax.plot(df[\"population\"], df[\"prediction_manual\"]);\n",
        "ax.set_xlabel(\"population (log)\")\n",
        "ax.set_ylabel(\"walking speed (feet/s)\");"
      ],
      "metadata": {
        "colab": {
          "base_uri": "https://localhost:8080/",
          "height": 449
        },
        "id": "si_ziWcaV9I0",
        "outputId": "e7592108-bb35-4c25-846f-0a5ed523f123"
      },
      "execution_count": 13,
      "outputs": [
        {
          "output_type": "display_data",
          "data": {
            "text/plain": [
              "<Figure size 640x480 with 1 Axes>"
            ],
            "image/png": "[encoded data removed]"
          },
          "metadata": {}
        }
      ]
    },
    {
      "cell_type": "markdown",
      "source": [
        "#####**Figure 1.4** A linear fit to the data in Figure 1.1 and 1.2 performed with brute force minimization of the Sum of Squared Errors (L2) objective function."
      ],
      "metadata": {
        "id": "RA8_EsNNWGtP"
      }
    },
    {
      "cell_type": "markdown",
      "source": [
        "###**2. Minimizing an Objective Function *with Numpy***\n",
        "---"
      ],
      "metadata": {
        "id": "b1G2m_Rpnphl"
      }
    },
    {
      "cell_type": "code",
      "source": [
        "print(\"best slope {:.2f} and intercept {:.2f}\".format(*np.polyfit(df['population'], df['wspeed'], 1)))"
      ],
      "metadata": {
        "colab": {
          "base_uri": "https://localhost:8080/"
        },
        "id": "R3qDfCvCWAE0",
        "outputId": "6bee0671-b80a-4e50-ed3d-de7e9dfa0e8d"
      },
      "execution_count": 14,
      "outputs": [
        {
          "output_type": "stream",
          "name": "stdout",
          "text": [
            "best slope 0.87 and intercept 0.06\n"
          ]
        }
      ]
    },
    {
      "cell_type": "code",
      "source": [
        "slope, intercept = np.polyfit(df['population'], df['wspeed'], 1)\n",
        "\n",
        "# Making predictions from the slope and intercept obtained above\n",
        "df['prediction_numpy'] = df['population'] * slope + intercept\n",
        "# Displaying the output\n",
        "df[['population', 'wspeed', 'prediction_numpy']].head()"
      ],
      "metadata": {
        "colab": {
          "base_uri": "https://localhost:8080/",
          "height": 204
        },
        "id": "upFJNsL2WLK7",
        "outputId": "5cf8c69b-def0-4711-de26-7b825881e619"
      },
      "execution_count": 15,
      "outputs": [
        {
          "output_type": "execute_result",
          "data": {
            "text/plain": [
              "   population  wspeed  prediction_numpy\n",
              "0    3.401401    2.28          3.000010\n",
              "1    2.568202    2.79          2.279012\n",
              "2    3.752048    3.37          3.303439\n",
              "3    4.149219    3.76          3.647126\n",
              "4    4.367356    3.31          3.835888"
            ],
            "text/html": [
              "\n",
              "  <div id=\"df-6ea7bf4e-a658-4819-9581-ff5aeb8bdee2\" class=\"colab-df-container\">\n",
              "    <div>\n",
              "<style scoped>\n",
              "    .dataframe tbody tr th:only-of-type {\n",
              "        vertical-align: middle;\n",
              "    }\n",
              "\n",
              "    .dataframe tbody tr th {\n",
              "        vertical-align: top;\n",
              "    }\n",
              "\n",
              "    .dataframe thead th {\n",
              "        text-align: right;\n",
              "    }\n",
              "</style>\n",
              "<table border=\"1\" class=\"dataframe\">\n",
              "  <thead>\n",
              "    <tr style=\"text-align: right;\">\n",
              "      <th></th>\n",
              "      <th>population</th>\n",
              "      <th>wspeed</th>\n",
              "      <th>prediction_numpy</th>\n",
              "    </tr>\n",
              "  </thead>\n",
              "  <tbody>\n",
              "    <tr>\n",
              "      <th>0</th>\n",
              "      <td>3.401401</td>\n",
              "      <td>2.28</td>\n",
              "      <td>3.000010</td>\n",
              "    </tr>\n",
              "    <tr>\n",
              "      <th>1</th>\n",
              "      <td>2.568202</td>\n",
              "      <td>2.79</td>\n",
              "      <td>2.279012</td>\n",
              "    </tr>\n",
              "    <tr>\n",
              "      <th>2</th>\n",
              "      <td>3.752048</td>\n",
              "      <td>3.37</td>\n",
              "      <td>3.303439</td>\n",
              "    </tr>\n",
              "    <tr>\n",
              "      <th>3</th>\n",
              "      <td>4.149219</td>\n",
              "      <td>3.76</td>\n",
              "      <td>3.647126</td>\n",
              "    </tr>\n",
              "    <tr>\n",
              "      <th>4</th>\n",
              "      <td>4.367356</td>\n",
              "      <td>3.31</td>\n",
              "      <td>3.835888</td>\n",
              "    </tr>\n",
              "  </tbody>\n",
              "</table>\n",
              "</div>\n",
              "    <div class=\"colab-df-buttons\">\n",
              "\n",
              "  <div class=\"colab-df-container\">\n",
              "    <button class=\"colab-df-convert\" onclick=\"convertToInteractive('df-6ea7bf4e-a658-4819-9581-ff5aeb8bdee2')\"\n",
              "            title=\"Convert this dataframe to an interactive table.\"\n",
              "            style=\"display:none;\">\n",
              "\n",
              "  <svg xmlns=\"http://www.w3.org/2000/svg\" height=\"24px\" viewBox=\"0 -960 960 960\">\n",
              "    <path d=\"M120-120v-720h720v720H120Zm60-500h600v-160H180v160Zm220 220h160v-160H400v160Zm0 220h160v-160H400v160ZM180-400h160v-160H180v160Zm440 0h160v-160H620v160ZM180-180h160v-160H180v160Zm440 0h160v-160H620v160Z\"/>\n",
              "  </svg>\n",
              "    </button>\n",
              "\n",
              "  <style>\n",
              "    .colab-df-container {\n",
              "      display:flex;\n",
              "      gap: 12px;\n",
              "    }\n",
              "\n",
              "    .colab-df-convert {\n",
              "      background-color: #E8F0FE;\n",
              "      border: none;\n",
              "      border-radius: 50%;\n",
              "      cursor: pointer;\n",
              "      display: none;\n",
              "      fill: #1967D2;\n",
              "      height: 32px;\n",
              "      padding: 0 0 0 0;\n",
              "      width: 32px;\n",
              "    }\n",
              "\n",
              "    .colab-df-convert:hover {\n",
              "      background-color: #E2EBFA;\n",
              "      box-shadow: 0px 1px 2px rgba(60, 64, 67, 0.3), 0px 1px 3px 1px rgba(60, 64, 67, 0.15);\n",
              "      fill: #174EA6;\n",
              "    }\n",
              "\n",
              "    .colab-df-buttons div {\n",
              "      margin-bottom: 4px;\n",
              "    }\n",
              "\n",
              "    [theme=dark] .colab-df-convert {\n",
              "      background-color: #3B4455;\n",
              "      fill: #D2E3FC;\n",
              "    }\n",
              "\n",
              "    [theme=dark] .colab-df-convert:hover {\n",
              "      background-color: #434B5C;\n",
              "      box-shadow: 0px 1px 3px 1px rgba(0, 0, 0, 0.15);\n",
              "      filter: drop-shadow(0px 1px 2px rgba(0, 0, 0, 0.3));\n",
              "      fill: #FFFFFF;\n",
              "    }\n",
              "  </style>\n",
              "\n",
              "    <script>\n",
              "      const buttonEl =\n",
              "        document.querySelector('#df-6ea7bf4e-a658-4819-9581-ff5aeb8bdee2 button.colab-df-convert');\n",
              "      buttonEl.style.display =\n",
              "        google.colab.kernel.accessAllowed ? 'block' : 'none';\n",
              "\n",
              "      async function convertToInteractive(key) {\n",
              "        const element = document.querySelector('#df-6ea7bf4e-a658-4819-9581-ff5aeb8bdee2');\n",
              "        const dataTable =\n",
              "          await google.colab.kernel.invokeFunction('convertToInteractive',\n",
              "                                                    [key], {});\n",
              "        if (!dataTable) return;\n",
              "\n",
              "        const docLinkHtml = 'Like what you see? Visit the ' +\n",
              "          '<a target=\"_blank\" href=https://colab.research.google.com/notebooks/data_table.ipynb>data table notebook</a>'\n",
              "          + ' to learn more about interactive tables.';\n",
              "        element.innerHTML = '';\n",
              "        dataTable['output_type'] = 'display_data';\n",
              "        await google.colab.output.renderOutput(dataTable, element);\n",
              "        const docLink = document.createElement('div');\n",
              "        docLink.innerHTML = docLinkHtml;\n",
              "        element.appendChild(docLink);\n",
              "      }\n",
              "    </script>\n",
              "  </div>\n",
              "\n",
              "\n",
              "<div id=\"df-df748e81-ee58-4ab5-9c02-41bc66b06cc3\">\n",
              "  <button class=\"colab-df-quickchart\" onclick=\"quickchart('df-df748e81-ee58-4ab5-9c02-41bc66b06cc3')\"\n",
              "            title=\"Suggest charts\"\n",
              "            style=\"display:none;\">\n",
              "\n",
              "<svg xmlns=\"http://www.w3.org/2000/svg\" height=\"24px\"viewBox=\"0 0 24 24\"\n",
              "     width=\"24px\">\n",
              "    <g>\n",
              "        <path d=\"M19 3H5c-1.1 0-2 .9-2 2v14c0 1.1.9 2 2 2h14c1.1 0 2-.9 2-2V5c0-1.1-.9-2-2-2zM9 17H7v-7h2v7zm4 0h-2V7h2v10zm4 0h-2v-4h2v4z\"/>\n",
              "    </g>\n",
              "</svg>\n",
              "  </button>\n",
              "\n",
              "<style>\n",
              "  .colab-df-quickchart {\n",
              "      --bg-color: #E8F0FE;\n",
              "      --fill-color: #1967D2;\n",
              "      --hover-bg-color: #E2EBFA;\n",
              "      --hover-fill-color: #174EA6;\n",
              "      --disabled-fill-color: #AAA;\n",
              "      --disabled-bg-color: #DDD;\n",
              "  }\n",
              "\n",
              "  [theme=dark] .colab-df-quickchart {\n",
              "      --bg-color: #3B4455;\n",
              "      --fill-color: #D2E3FC;\n",
              "      --hover-bg-color: #434B5C;\n",
              "      --hover-fill-color: #FFFFFF;\n",
              "      --disabled-bg-color: #3B4455;\n",
              "      --disabled-fill-color: #666;\n",
              "  }\n",
              "\n",
              "  .colab-df-quickchart {\n",
              "    background-color: var(--bg-color);\n",
              "    border: none;\n",
              "    border-radius: 50%;\n",
              "    cursor: pointer;\n",
              "    display: none;\n",
              "    fill: var(--fill-color);\n",
              "    height: 32px;\n",
              "    padding: 0;\n",
              "    width: 32px;\n",
              "  }\n",
              "\n",
              "  .colab-df-quickchart:hover {\n",
              "    background-color: var(--hover-bg-color);\n",
              "    box-shadow: 0 1px 2px rgba(60, 64, 67, 0.3), 0 1px 3px 1px rgba(60, 64, 67, 0.15);\n",
              "    fill: var(--button-hover-fill-color);\n",
              "  }\n",
              "\n",
              "  .colab-df-quickchart-complete:disabled,\n",
              "  .colab-df-quickchart-complete:disabled:hover {\n",
              "    background-color: var(--disabled-bg-color);\n",
              "    fill: var(--disabled-fill-color);\n",
              "    box-shadow: none;\n",
              "  }\n",
              "\n",
              "  .colab-df-spinner {\n",
              "    border: 2px solid var(--fill-color);\n",
              "    border-color: transparent;\n",
              "    border-bottom-color: var(--fill-color);\n",
              "    animation:\n",
              "      spin 1s steps(1) infinite;\n",
              "  }\n",
              "\n",
              "  @keyframes spin {\n",
              "    0% {\n",
              "      border-color: transparent;\n",
              "      border-bottom-color: var(--fill-color);\n",
              "      border-left-color: var(--fill-color);\n",
              "    }\n",
              "    20% {\n",
              "      border-color: transparent;\n",
              "      border-left-color: var(--fill-color);\n",
              "      border-top-color: var(--fill-color);\n",
              "    }\n",
              "    30% {\n",
              "      border-color: transparent;\n",
              "      border-left-color: var(--fill-color);\n",
              "      border-top-color: var(--fill-color);\n",
              "      border-right-color: var(--fill-color);\n",
              "    }\n",
              "    40% {\n",
              "      border-color: transparent;\n",
              "      border-right-color: var(--fill-color);\n",
              "      border-top-color: var(--fill-color);\n",
              "    }\n",
              "    60% {\n",
              "      border-color: transparent;\n",
              "      border-right-color: var(--fill-color);\n",
              "    }\n",
              "    80% {\n",
              "      border-color: transparent;\n",
              "      border-right-color: var(--fill-color);\n",
              "      border-bottom-color: var(--fill-color);\n",
              "    }\n",
              "    90% {\n",
              "      border-color: transparent;\n",
              "      border-bottom-color: var(--fill-color);\n",
              "    }\n",
              "  }\n",
              "</style>\n",
              "\n",
              "  <script>\n",
              "    async function quickchart(key) {\n",
              "      const quickchartButtonEl =\n",
              "        document.querySelector('#' + key + ' button');\n",
              "      quickchartButtonEl.disabled = true;  // To prevent multiple clicks.\n",
              "      quickchartButtonEl.classList.add('colab-df-spinner');\n",
              "      try {\n",
              "        const charts = await google.colab.kernel.invokeFunction(\n",
              "            'suggestCharts', [key], {});\n",
              "      } catch (error) {\n",
              "        console.error('Error during call to suggestCharts:', error);\n",
              "      }\n",
              "      quickchartButtonEl.classList.remove('colab-df-spinner');\n",
              "      quickchartButtonEl.classList.add('colab-df-quickchart-complete');\n",
              "    }\n",
              "    (() => {\n",
              "      let quickchartButtonEl =\n",
              "        document.querySelector('#df-df748e81-ee58-4ab5-9c02-41bc66b06cc3 button');\n",
              "      quickchartButtonEl.style.display =\n",
              "        google.colab.kernel.accessAllowed ? 'block' : 'none';\n",
              "    })();\n",
              "  </script>\n",
              "</div>\n",
              "\n",
              "    </div>\n",
              "  </div>\n"
            ],
            "application/vnd.google.colaboratory.intrinsic+json": {
              "type": "dataframe",
              "summary": "{\n  \"name\": \"df[['population', 'wspeed', 'prediction_numpy']]\",\n  \"rows\": 5,\n  \"fields\": [\n    {\n      \"column\": \"population\",\n      \"properties\": {\n        \"dtype\": \"number\",\n        \"std\": 0.7082186455995412,\n        \"min\": 2.568201724066995,\n        \"max\": 4.367355921026019,\n        \"num_unique_values\": 5,\n        \"samples\": [\n          2.568201724066995,\n          4.367355921026019,\n          3.7520484478194387\n        ],\n        \"semantic_type\": \"\",\n        \"description\": \"\"\n      }\n    },\n    {\n      \"column\": \"wspeed\",\n      \"properties\": {\n        \"dtype\": \"number\",\n        \"std\": 0.5746912214398269,\n        \"min\": 2.28,\n        \"max\": 3.76,\n        \"num_unique_values\": 5,\n        \"samples\": [\n          2.79,\n          3.31,\n          3.37\n        ],\n        \"semantic_type\": \"\",\n        \"description\": \"\"\n      }\n    },\n    {\n      \"column\": \"prediction_numpy\",\n      \"properties\": {\n        \"dtype\": \"number\",\n        \"std\": 0.6128485759770159,\n        \"min\": 2.2790116875177047,\n        \"max\": 3.835888358896496,\n        \"num_unique_values\": 5,\n        \"samples\": [\n          2.2790116875177047,\n          3.835888358896496,\n          3.303439360150574\n        ],\n        \"semantic_type\": \"\",\n        \"description\": \"\"\n      }\n    }\n  ]\n}"
            }
          },
          "metadata": {},
          "execution_count": 15
        }
      ]
    },
    {
      "cell_type": "code",
      "source": [
        "ax = df.plot(\"population\", \"wspeed\", kind=\"scatter\")\n",
        "df.plot(\"population\", \"prediction_manual\", kind=\"line\", ax=ax)\n",
        "df.plot(\"population\", \"prediction_numpy\", kind=\"line\", style = ['--'], ax=ax)\n",
        "\n",
        "ax.set_xlabel(\"population (log)\")\n",
        "ax.set_ylabel(\"walking speed (feet/s)\");"
      ],
      "metadata": {
        "colab": {
          "base_uri": "https://localhost:8080/",
          "height": 449
        },
        "id": "POXhalHRWOoH",
        "outputId": "945b6204-f051-47bf-c290-9a356aee41f4"
      },
      "execution_count": 16,
      "outputs": [
        {
          "output_type": "display_data",
          "data": {
            "text/plain": [
              "<Figure size 640x480 with 1 Axes>"
            ],
            "image/png": "[encoded data removed]"
          },
          "metadata": {}
        }
      ]
    },
    {
      "cell_type": "markdown",
      "source": [
        "#####**Figure 1.5** A linear fit to the data in Figure 1.1 and 1.2 performed with brute force minimization (blue) and numpy polyfit (orange); the solutions should overlap as numpy minimizes the L2 to get the result, but the granularity of the Stocastic Gradient Descent numpy solution outperforms the brute force method in precision."
      ],
      "metadata": {
        "id": "6I4XE-y_WTgd"
      }
    },
    {
      "cell_type": "markdown",
      "source": [
        "###**3. Minimizing an Objective Function *Using Sklearn***\n",
        "---"
      ],
      "metadata": {
        "id": "moEc0ntnoHe1"
      }
    },
    {
      "cell_type": "code",
      "source": [
        "# this is gonna give an error!\n",
        "from sklearn.linear_model import LinearRegression\n",
        "#reg = LinearRegression().fit(df[\"population\"], df[\"wspeed\"])"
      ],
      "metadata": {
        "id": "FTmCsIGvWRLs"
      },
      "execution_count": 17,
      "outputs": []
    },
    {
      "cell_type": "code",
      "source": [
        "# multiple options to get the right shape for the input (exogenous) variable\n",
        "#options 1:\n",
        "# X = df[\"population\"].values.reshape(-1, 1) # this extracts the value arrays from the series and reshapes it to 2D\n",
        "#options 2:\n",
        "X = df[[\"population\"]] # this uses a dataframe which contains only 1 column instead of the series\n",
        "# option 3:\n",
        "#X = df[\"population\"].values[:,None] # another way to reshape the array from the series\n",
        "# option 4:\n",
        "#X = np.atleast_2D(df[\"population\"].values) # another way to reshape the array from the series"
      ],
      "metadata": {
        "id": "9sYfRZOWWV9X"
      },
      "execution_count": 18,
      "outputs": []
    },
    {
      "cell_type": "code",
      "source": [
        "## instead of passing df[\"population\"] pass df[\"population\"].values.reshape(-1, 1),\n",
        "y = df[\"wspeed\"].values\n",
        "reg = LinearRegression().fit(X,y)\n",
        "print(\"score of linear regression from sklearn {:.2f}\".format(\n",
        "    reg.score(X, y)))"
      ],
      "metadata": {
        "colab": {
          "base_uri": "https://localhost:8080/"
        },
        "id": "Zx-jMQFBWYhU",
        "outputId": "45386620-2872-41f6-ad3e-5b8845e2bae0"
      },
      "execution_count": 19,
      "outputs": [
        {
          "output_type": "stream",
          "name": "stdout",
          "text": [
            "score of linear regression from sklearn 0.82\n"
          ]
        }
      ]
    },
    {
      "cell_type": "code",
      "source": [
        "df[\"prediction_skl\"] = reg.predict(X)"
      ],
      "metadata": {
        "id": "i2puo_4cWfhu"
      },
      "execution_count": 20,
      "outputs": []
    },
    {
      "cell_type": "code",
      "source": [
        "ax = df.plot(\"population\", \"wspeed\", kind=\"scatter\")\n",
        "df.plot(\"population\", \"prediction_manual\", kind=\"line\", ax=ax)\n",
        "df.plot(\"population\", \"prediction_numpy\", kind=\"line\", style = ['--'], ax=ax)\n",
        "df.plot(\"population\", \"prediction_skl\", kind=\"line\", style = ['-.'], alpha = 0.3,\n",
        "        ax=ax);\n",
        "\n",
        "ax.set_xlabel(\"population (log)\")\n",
        "ax.set_ylabel(\"walking speed (feet/s)\");"
      ],
      "metadata": {
        "colab": {
          "base_uri": "https://localhost:8080/",
          "height": 449
        },
        "id": "tGIiqFP3WiQm",
        "outputId": "54b0d38d-0047-4b3a-c291-e1b492026584"
      },
      "execution_count": 21,
      "outputs": [
        {
          "output_type": "display_data",
          "data": {
            "text/plain": [
              "<Figure size 640x480 with 1 Axes>"
            ],
            "image/png": "[encoded data removed]"
          },
          "metadata": {}
        }
      ]
    },
    {
      "cell_type": "markdown",
      "source": [
        "#####**Figure 1.6** Same as the numpy polyfit solution in Figure 1.5 but with the scikitlearn LinearRegression solution overplotted."
      ],
      "metadata": {
        "id": "bqpDwxIIWmff"
      }
    },
    {
      "cell_type": "markdown",
      "source": [
        "###**4. Minimizing an Objective Function *Using Statsmodels***\n",
        "---"
      ],
      "metadata": {
        "id": "5KftdRbfo24W"
      }
    },
    {
      "cell_type": "markdown",
      "source": [
        "####**Line Fit**\n",
        "---"
      ],
      "metadata": {
        "id": "zCHhtlKxpGGn"
      }
    },
    {
      "cell_type": "code",
      "source": [
        "import statsmodels.api as sm\n",
        "# Let's declare our X and y variables\n",
        "X = df['population']\n",
        "y = df['wspeed']\n",
        "#same issue as before for the dimensionality of the independent variabl\n",
        "# With Statsmodels, we need to add our intercept term, B0, manually\n",
        "X = sm.add_constant(X)\n",
        "X.head()"
      ],
      "metadata": {
        "colab": {
          "base_uri": "https://localhost:8080/",
          "height": 204
        },
        "id": "pQqV0lXvWkFH",
        "outputId": "c65b9485-b3a2-40bd-8c02-7147d4e042e0"
      },
      "execution_count": 22,
      "outputs": [
        {
          "output_type": "execute_result",
          "data": {
            "text/plain": [
              "   const  population\n",
              "0    1.0    3.401401\n",
              "1    1.0    2.568202\n",
              "2    1.0    3.752048\n",
              "3    1.0    4.149219\n",
              "4    1.0    4.367356"
            ],
            "text/html": [
              "\n",
              "  <div id=\"df-9502af84-f8ba-47d1-8702-b8ee928f1349\" class=\"colab-df-container\">\n",
              "    <div>\n",
              "<style scoped>\n",
              "    .dataframe tbody tr th:only-of-type {\n",
              "        vertical-align: middle;\n",
              "    }\n",
              "\n",
              "    .dataframe tbody tr th {\n",
              "        vertical-align: top;\n",
              "    }\n",
              "\n",
              "    .dataframe thead th {\n",
              "        text-align: right;\n",
              "    }\n",
              "</style>\n",
              "<table border=\"1\" class=\"dataframe\">\n",
              "  <thead>\n",
              "    <tr style=\"text-align: right;\">\n",
              "      <th></th>\n",
              "      <th>const</th>\n",
              "      <th>population</th>\n",
              "    </tr>\n",
              "  </thead>\n",
              "  <tbody>\n",
              "    <tr>\n",
              "      <th>0</th>\n",
              "      <td>1.0</td>\n",
              "      <td>3.401401</td>\n",
              "    </tr>\n",
              "    <tr>\n",
              "      <th>1</th>\n",
              "      <td>1.0</td>\n",
              "      <td>2.568202</td>\n",
              "    </tr>\n",
              "    <tr>\n",
              "      <th>2</th>\n",
              "      <td>1.0</td>\n",
              "      <td>3.752048</td>\n",
              "    </tr>\n",
              "    <tr>\n",
              "      <th>3</th>\n",
              "      <td>1.0</td>\n",
              "      <td>4.149219</td>\n",
              "    </tr>\n",
              "    <tr>\n",
              "      <th>4</th>\n",
              "      <td>1.0</td>\n",
              "      <td>4.367356</td>\n",
              "    </tr>\n",
              "  </tbody>\n",
              "</table>\n",
              "</div>\n",
              "    <div class=\"colab-df-buttons\">\n",
              "\n",
              "  <div class=\"colab-df-container\">\n",
              "    <button class=\"colab-df-convert\" onclick=\"convertToInteractive('df-9502af84-f8ba-47d1-8702-b8ee928f1349')\"\n",
              "            title=\"Convert this dataframe to an interactive table.\"\n",
              "            style=\"display:none;\">\n",
              "\n",
              "  <svg xmlns=\"http://www.w3.org/2000/svg\" height=\"24px\" viewBox=\"0 -960 960 960\">\n",
              "    <path d=\"M120-120v-720h720v720H120Zm60-500h600v-160H180v160Zm220 220h160v-160H400v160Zm0 220h160v-160H400v160ZM180-400h160v-160H180v160Zm440 0h160v-160H620v160ZM180-180h160v-160H180v160Zm440 0h160v-160H620v160Z\"/>\n",
              "  </svg>\n",
              "    </button>\n",
              "\n",
              "  <style>\n",
              "    .colab-df-container {\n",
              "      display:flex;\n",
              "      gap: 12px;\n",
              "    }\n",
              "\n",
              "    .colab-df-convert {\n",
              "      background-color: #E8F0FE;\n",
              "      border: none;\n",
              "      border-radius: 50%;\n",
              "      cursor: pointer;\n",
              "      display: none;\n",
              "      fill: #1967D2;\n",
              "      height: 32px;\n",
              "      padding: 0 0 0 0;\n",
              "      width: 32px;\n",
              "    }\n",
              "\n",
              "    .colab-df-convert:hover {\n",
              "      background-color: #E2EBFA;\n",
              "      box-shadow: 0px 1px 2px rgba(60, 64, 67, 0.3), 0px 1px 3px 1px rgba(60, 64, 67, 0.15);\n",
              "      fill: #174EA6;\n",
              "    }\n",
              "\n",
              "    .colab-df-buttons div {\n",
              "      margin-bottom: 4px;\n",
              "    }\n",
              "\n",
              "    [theme=dark] .colab-df-convert {\n",
              "      background-color: #3B4455;\n",
              "      fill: #D2E3FC;\n",
              "    }\n",
              "\n",
              "    [theme=dark] .colab-df-convert:hover {\n",
              "      background-color: #434B5C;\n",
              "      box-shadow: 0px 1px 3px 1px rgba(0, 0, 0, 0.15);\n",
              "      filter: drop-shadow(0px 1px 2px rgba(0, 0, 0, 0.3));\n",
              "      fill: #FFFFFF;\n",
              "    }\n",
              "  </style>\n",
              "\n",
              "    <script>\n",
              "      const buttonEl =\n",
              "        document.querySelector('#df-9502af84-f8ba-47d1-8702-b8ee928f1349 button.colab-df-convert');\n",
              "      buttonEl.style.display =\n",
              "        google.colab.kernel.accessAllowed ? 'block' : 'none';\n",
              "\n",
              "      async function convertToInteractive(key) {\n",
              "        const element = document.querySelector('#df-9502af84-f8ba-47d1-8702-b8ee928f1349');\n",
              "        const dataTable =\n",
              "          await google.colab.kernel.invokeFunction('convertToInteractive',\n",
              "                                                    [key], {});\n",
              "        if (!dataTable) return;\n",
              "\n",
              "        const docLinkHtml = 'Like what you see? Visit the ' +\n",
              "          '<a target=\"_blank\" href=https://colab.research.google.com/notebooks/data_table.ipynb>data table notebook</a>'\n",
              "          + ' to learn more about interactive tables.';\n",
              "        element.innerHTML = '';\n",
              "        dataTable['output_type'] = 'display_data';\n",
              "        await google.colab.output.renderOutput(dataTable, element);\n",
              "        const docLink = document.createElement('div');\n",
              "        docLink.innerHTML = docLinkHtml;\n",
              "        element.appendChild(docLink);\n",
              "      }\n",
              "    </script>\n",
              "  </div>\n",
              "\n",
              "\n",
              "<div id=\"df-02aa9636-0fd2-4ac4-a5e9-57b7a5f53995\">\n",
              "  <button class=\"colab-df-quickchart\" onclick=\"quickchart('df-02aa9636-0fd2-4ac4-a5e9-57b7a5f53995')\"\n",
              "            title=\"Suggest charts\"\n",
              "            style=\"display:none;\">\n",
              "\n",
              "<svg xmlns=\"http://www.w3.org/2000/svg\" height=\"24px\"viewBox=\"0 0 24 24\"\n",
              "     width=\"24px\">\n",
              "    <g>\n",
              "        <path d=\"M19 3H5c-1.1 0-2 .9-2 2v14c0 1.1.9 2 2 2h14c1.1 0 2-.9 2-2V5c0-1.1-.9-2-2-2zM9 17H7v-7h2v7zm4 0h-2V7h2v10zm4 0h-2v-4h2v4z\"/>\n",
              "    </g>\n",
              "</svg>\n",
              "  </button>\n",
              "\n",
              "<style>\n",
              "  .colab-df-quickchart {\n",
              "      --bg-color: #E8F0FE;\n",
              "      --fill-color: #1967D2;\n",
              "      --hover-bg-color: #E2EBFA;\n",
              "      --hover-fill-color: #174EA6;\n",
              "      --disabled-fill-color: #AAA;\n",
              "      --disabled-bg-color: #DDD;\n",
              "  }\n",
              "\n",
              "  [theme=dark] .colab-df-quickchart {\n",
              "      --bg-color: #3B4455;\n",
              "      --fill-color: #D2E3FC;\n",
              "      --hover-bg-color: #434B5C;\n",
              "      --hover-fill-color: #FFFFFF;\n",
              "      --disabled-bg-color: #3B4455;\n",
              "      --disabled-fill-color: #666;\n",
              "  }\n",
              "\n",
              "  .colab-df-quickchart {\n",
              "    background-color: var(--bg-color);\n",
              "    border: none;\n",
              "    border-radius: 50%;\n",
              "    cursor: pointer;\n",
              "    display: none;\n",
              "    fill: var(--fill-color);\n",
              "    height: 32px;\n",
              "    padding: 0;\n",
              "    width: 32px;\n",
              "  }\n",
              "\n",
              "  .colab-df-quickchart:hover {\n",
              "    background-color: var(--hover-bg-color);\n",
              "    box-shadow: 0 1px 2px rgba(60, 64, 67, 0.3), 0 1px 3px 1px rgba(60, 64, 67, 0.15);\n",
              "    fill: var(--button-hover-fill-color);\n",
              "  }\n",
              "\n",
              "  .colab-df-quickchart-complete:disabled,\n",
              "  .colab-df-quickchart-complete:disabled:hover {\n",
              "    background-color: var(--disabled-bg-color);\n",
              "    fill: var(--disabled-fill-color);\n",
              "    box-shadow: none;\n",
              "  }\n",
              "\n",
              "  .colab-df-spinner {\n",
              "    border: 2px solid var(--fill-color);\n",
              "    border-color: transparent;\n",
              "    border-bottom-color: var(--fill-color);\n",
              "    animation:\n",
              "      spin 1s steps(1) infinite;\n",
              "  }\n",
              "\n",
              "  @keyframes spin {\n",
              "    0% {\n",
              "      border-color: transparent;\n",
              "      border-bottom-color: var(--fill-color);\n",
              "      border-left-color: var(--fill-color);\n",
              "    }\n",
              "    20% {\n",
              "      border-color: transparent;\n",
              "      border-left-color: var(--fill-color);\n",
              "      border-top-color: var(--fill-color);\n",
              "    }\n",
              "    30% {\n",
              "      border-color: transparent;\n",
              "      border-left-color: var(--fill-color);\n",
              "      border-top-color: var(--fill-color);\n",
              "      border-right-color: var(--fill-color);\n",
              "    }\n",
              "    40% {\n",
              "      border-color: transparent;\n",
              "      border-right-color: var(--fill-color);\n",
              "      border-top-color: var(--fill-color);\n",
              "    }\n",
              "    60% {\n",
              "      border-color: transparent;\n",
              "      border-right-color: var(--fill-color);\n",
              "    }\n",
              "    80% {\n",
              "      border-color: transparent;\n",
              "      border-right-color: var(--fill-color);\n",
              "      border-bottom-color: var(--fill-color);\n",
              "    }\n",
              "    90% {\n",
              "      border-color: transparent;\n",
              "      border-bottom-color: var(--fill-color);\n",
              "    }\n",
              "  }\n",
              "</style>\n",
              "\n",
              "  <script>\n",
              "    async function quickchart(key) {\n",
              "      const quickchartButtonEl =\n",
              "        document.querySelector('#' + key + ' button');\n",
              "      quickchartButtonEl.disabled = true;  // To prevent multiple clicks.\n",
              "      quickchartButtonEl.classList.add('colab-df-spinner');\n",
              "      try {\n",
              "        const charts = await google.colab.kernel.invokeFunction(\n",
              "            'suggestCharts', [key], {});\n",
              "      } catch (error) {\n",
              "        console.error('Error during call to suggestCharts:', error);\n",
              "      }\n",
              "      quickchartButtonEl.classList.remove('colab-df-spinner');\n",
              "      quickchartButtonEl.classList.add('colab-df-quickchart-complete');\n",
              "    }\n",
              "    (() => {\n",
              "      let quickchartButtonEl =\n",
              "        document.querySelector('#df-02aa9636-0fd2-4ac4-a5e9-57b7a5f53995 button');\n",
              "      quickchartButtonEl.style.display =\n",
              "        google.colab.kernel.accessAllowed ? 'block' : 'none';\n",
              "    })();\n",
              "  </script>\n",
              "</div>\n",
              "\n",
              "    </div>\n",
              "  </div>\n"
            ],
            "application/vnd.google.colaboratory.intrinsic+json": {
              "type": "dataframe",
              "variable_name": "X",
              "summary": "{\n  \"name\": \"X\",\n  \"rows\": 15,\n  \"fields\": [\n    {\n      \"column\": \"const\",\n      \"properties\": {\n        \"dtype\": \"number\",\n        \"std\": 0.0,\n        \"min\": 1.0,\n        \"max\": 1.0,\n        \"num_unique_values\": 1,\n        \"samples\": [\n          1.0\n        ],\n        \"semantic_type\": \"\",\n        \"description\": \"\"\n      }\n    },\n    {\n      \"column\": \"population\",\n      \"properties\": {\n        \"dtype\": \"number\",\n        \"std\": 1.101065080096021,\n        \"min\": 2.568201724066995,\n        \"max\": 6.418301291319746,\n        \"num_unique_values\": 15,\n        \"samples\": [\n          5.505149978319906\n        ],\n        \"semantic_type\": \"\",\n        \"description\": \"\"\n      }\n    }\n  ]\n}"
            }
          },
          "metadata": {},
          "execution_count": 22
        }
      ]
    },
    {
      "cell_type": "code",
      "source": [
        "model = sm.OLS(endog=y, exog=X)\n",
        "results = model.fit()\n",
        "# Show the summary\n",
        "results.summary()"
      ],
      "metadata": {
        "colab": {
          "base_uri": "https://localhost:8080/",
          "height": 498
        },
        "id": "us9khkJ4Wo89",
        "outputId": "9c5d755d-6826-45e9-9816-4a7a220a76f1"
      },
      "execution_count": 23,
      "outputs": [
        {
          "output_type": "stream",
          "name": "stderr",
          "text": [
            "/usr/local/lib/python3.10/dist-packages/scipy/stats/_axis_nan_policy.py:531: UserWarning: kurtosistest only valid for n>=20 ... continuing anyway, n=15\n",
            "  res = hypotest_fun_out(*samples, **kwds)\n"
          ]
        },
        {
          "output_type": "execute_result",
          "data": {
            "text/plain": [
              "<class 'statsmodels.iolib.summary.Summary'>\n",
              "\"\"\"\n",
              "                            OLS Regression Results                            \n",
              "==============================================================================\n",
              "Dep. Variable:                 wspeed   R-squared:                       0.822\n",
              "Model:                            OLS   Adj. R-squared:                  0.808\n",
              "Method:                 Least Squares   F-statistic:                     59.90\n",
              "Date:                Wed, 16 Oct 2024   Prob (F-statistic):           3.21e-06\n",
              "Time:                        21:41:50   Log-Likelihood:                -8.5829\n",
              "No. Observations:                  15   AIC:                             21.17\n",
              "Df Residuals:                      13   BIC:                             22.58\n",
              "Df Model:                           1                                         \n",
              "Covariance Type:            nonrobust                                         \n",
              "==============================================================================\n",
              "                 coef    std err          t      P>|t|      [0.025      0.975]\n",
              "------------------------------------------------------------------------------\n",
              "const          0.0566      0.560      0.101      0.921      -1.154       1.267\n",
              "population     0.8653      0.112      7.740      0.000       0.624       1.107\n",
              "==============================================================================\n",
              "Omnibus:                        0.456   Durbin-Watson:                   2.120\n",
              "Prob(Omnibus):                  0.796   Jarque-Bera (JB):                0.531\n",
              "Skew:                           0.115   Prob(JB):                        0.767\n",
              "Kurtosis:                       2.107   Cond. No.                         24.5\n",
              "==============================================================================\n",
              "\n",
              "Notes:\n",
              "[1] Standard Errors assume that the covariance matrix of the errors is correctly specified.\n",
              "\"\"\""
            ],
            "text/html": [
              "<table class=\"simpletable\">\n",
              "<caption>OLS Regression Results</caption>\n",
              "<tr>\n",
              "  <th>Dep. Variable:</th>         <td>wspeed</td>      <th>  R-squared:         </th> <td>   0.822</td>\n",
              "</tr>\n",
              "<tr>\n",
              "  <th>Model:</th>                   <td>OLS</td>       <th>  Adj. R-squared:    </th> <td>   0.808</td>\n",
              "</tr>\n",
              "<tr>\n",
              "  <th>Method:</th>             <td>Least Squares</td>  <th>  F-statistic:       </th> <td>   59.90</td>\n",
              "</tr>\n",
              "<tr>\n",
              "  <th>Date:</th>             <td>Wed, 16 Oct 2024</td> <th>  Prob (F-statistic):</th> <td>3.21e-06</td>\n",
              "</tr>\n",
              "<tr>\n",
              "  <th>Time:</th>                 <td>21:41:50</td>     <th>  Log-Likelihood:    </th> <td> -8.5829</td>\n",
              "</tr>\n",
              "<tr>\n",
              "  <th>No. Observations:</th>      <td>    15</td>      <th>  AIC:               </th> <td>   21.17</td>\n",
              "</tr>\n",
              "<tr>\n",
              "  <th>Df Residuals:</th>          <td>    13</td>      <th>  BIC:               </th> <td>   22.58</td>\n",
              "</tr>\n",
              "<tr>\n",
              "  <th>Df Model:</th>              <td>     1</td>      <th>                     </th>     <td> </td>   \n",
              "</tr>\n",
              "<tr>\n",
              "  <th>Covariance Type:</th>      <td>nonrobust</td>    <th>                     </th>     <td> </td>   \n",
              "</tr>\n",
              "</table>\n",
              "<table class=\"simpletable\">\n",
              "<tr>\n",
              "       <td></td>         <th>coef</th>     <th>std err</th>      <th>t</th>      <th>P>|t|</th>  <th>[0.025</th>    <th>0.975]</th>  \n",
              "</tr>\n",
              "<tr>\n",
              "  <th>const</th>      <td>    0.0566</td> <td>    0.560</td> <td>    0.101</td> <td> 0.921</td> <td>   -1.154</td> <td>    1.267</td>\n",
              "</tr>\n",
              "<tr>\n",
              "  <th>population</th> <td>    0.8653</td> <td>    0.112</td> <td>    7.740</td> <td> 0.000</td> <td>    0.624</td> <td>    1.107</td>\n",
              "</tr>\n",
              "</table>\n",
              "<table class=\"simpletable\">\n",
              "<tr>\n",
              "  <th>Omnibus:</th>       <td> 0.456</td> <th>  Durbin-Watson:     </th> <td>   2.120</td>\n",
              "</tr>\n",
              "<tr>\n",
              "  <th>Prob(Omnibus):</th> <td> 0.796</td> <th>  Jarque-Bera (JB):  </th> <td>   0.531</td>\n",
              "</tr>\n",
              "<tr>\n",
              "  <th>Skew:</th>          <td> 0.115</td> <th>  Prob(JB):          </th> <td>   0.767</td>\n",
              "</tr>\n",
              "<tr>\n",
              "  <th>Kurtosis:</th>      <td> 2.107</td> <th>  Cond. No.          </th> <td>    24.5</td>\n",
              "</tr>\n",
              "</table><br/><br/>Notes:<br/>[1] Standard Errors assume that the covariance matrix of the errors is correctly specified."
            ],
            "text/latex": "\\begin{center}\n\\begin{tabular}{lclc}\n\\toprule\n\\textbf{Dep. Variable:}    &      wspeed      & \\textbf{  R-squared:         } &     0.822   \\\\\n\\textbf{Model:}            &       OLS        & \\textbf{  Adj. R-squared:    } &     0.808   \\\\\n\\textbf{Method:}           &  Least Squares   & \\textbf{  F-statistic:       } &     59.90   \\\\\n\\textbf{Date:}             & Wed, 16 Oct 2024 & \\textbf{  Prob (F-statistic):} &  3.21e-06   \\\\\n\\textbf{Time:}             &     21:41:50     & \\textbf{  Log-Likelihood:    } &   -8.5829   \\\\\n\\textbf{No. Observations:} &          15      & \\textbf{  AIC:               } &     21.17   \\\\\n\\textbf{Df Residuals:}     &          13      & \\textbf{  BIC:               } &     22.58   \\\\\n\\textbf{Df Model:}         &           1      & \\textbf{                     } &             \\\\\n\\textbf{Covariance Type:}  &    nonrobust     & \\textbf{                     } &             \\\\\n\\bottomrule\n\\end{tabular}\n\\begin{tabular}{lcccccc}\n                    & \\textbf{coef} & \\textbf{std err} & \\textbf{t} & \\textbf{P$> |$t$|$} & \\textbf{[0.025} & \\textbf{0.975]}  \\\\\n\\midrule\n\\textbf{const}      &       0.0566  &        0.560     &     0.101  &         0.921        &       -1.154    &        1.267     \\\\\n\\textbf{population} &       0.8653  &        0.112     &     7.740  &         0.000        &        0.624    &        1.107     \\\\\n\\bottomrule\n\\end{tabular}\n\\begin{tabular}{lclc}\n\\textbf{Omnibus:}       &  0.456 & \\textbf{  Durbin-Watson:     } &    2.120  \\\\\n\\textbf{Prob(Omnibus):} &  0.796 & \\textbf{  Jarque-Bera (JB):  } &    0.531  \\\\\n\\textbf{Skew:}          &  0.115 & \\textbf{  Prob(JB):          } &    0.767  \\\\\n\\textbf{Kurtosis:}      &  2.107 & \\textbf{  Cond. No.          } &     24.5  \\\\\n\\bottomrule\n\\end{tabular}\n%\\caption{OLS Regression Results}\n\\end{center}\n\nNotes: \\newline\n [1] Standard Errors assume that the covariance matrix of the errors is correctly specified."
          },
          "metadata": {},
          "execution_count": 23
        }
      ]
    },
    {
      "cell_type": "markdown",
      "source": [
        "####**Polynomial Degree 2 Fit**\n",
        "---"
      ],
      "metadata": {
        "id": "QJ0tE0FYpOp7"
      }
    },
    {
      "cell_type": "code",
      "source": [
        "#alternative: statsmodel formula that could be useful if you wanted to create more complicated models\n",
        "import statsmodels.formula.api as smf"
      ],
      "metadata": {
        "id": "wP8GRNTNWsob"
      },
      "execution_count": 24,
      "outputs": []
    },
    {
      "cell_type": "code",
      "source": [
        "mod = smf.ols(formula='wspeed ~ population', data=df)\n",
        "res = mod.fit()\n",
        "res.summary()"
      ],
      "metadata": {
        "colab": {
          "base_uri": "https://localhost:8080/",
          "height": 498
        },
        "id": "Hy0UqwKXWv_a",
        "outputId": "22f56ebf-f4c0-4054-a298-fef7aedb3d23"
      },
      "execution_count": 25,
      "outputs": [
        {
          "output_type": "stream",
          "name": "stderr",
          "text": [
            "/usr/local/lib/python3.10/dist-packages/scipy/stats/_axis_nan_policy.py:531: UserWarning: kurtosistest only valid for n>=20 ... continuing anyway, n=15\n",
            "  res = hypotest_fun_out(*samples, **kwds)\n"
          ]
        },
        {
          "output_type": "execute_result",
          "data": {
            "text/plain": [
              "<class 'statsmodels.iolib.summary.Summary'>\n",
              "\"\"\"\n",
              "                            OLS Regression Results                            \n",
              "==============================================================================\n",
              "Dep. Variable:                 wspeed   R-squared:                       0.822\n",
              "Model:                            OLS   Adj. R-squared:                  0.808\n",
              "Method:                 Least Squares   F-statistic:                     59.90\n",
              "Date:                Wed, 16 Oct 2024   Prob (F-statistic):           3.21e-06\n",
              "Time:                        21:41:50   Log-Likelihood:                -8.5829\n",
              "No. Observations:                  15   AIC:                             21.17\n",
              "Df Residuals:                      13   BIC:                             22.58\n",
              "Df Model:                           1                                         \n",
              "Covariance Type:            nonrobust                                         \n",
              "==============================================================================\n",
              "                 coef    std err          t      P>|t|      [0.025      0.975]\n",
              "------------------------------------------------------------------------------\n",
              "Intercept      0.0566      0.560      0.101      0.921      -1.154       1.267\n",
              "population     0.8653      0.112      7.740      0.000       0.624       1.107\n",
              "==============================================================================\n",
              "Omnibus:                        0.456   Durbin-Watson:                   2.120\n",
              "Prob(Omnibus):                  0.796   Jarque-Bera (JB):                0.531\n",
              "Skew:                           0.115   Prob(JB):                        0.767\n",
              "Kurtosis:                       2.107   Cond. No.                         24.5\n",
              "==============================================================================\n",
              "\n",
              "Notes:\n",
              "[1] Standard Errors assume that the covariance matrix of the errors is correctly specified.\n",
              "\"\"\""
            ],
            "text/html": [
              "<table class=\"simpletable\">\n",
              "<caption>OLS Regression Results</caption>\n",
              "<tr>\n",
              "  <th>Dep. Variable:</th>         <td>wspeed</td>      <th>  R-squared:         </th> <td>   0.822</td>\n",
              "</tr>\n",
              "<tr>\n",
              "  <th>Model:</th>                   <td>OLS</td>       <th>  Adj. R-squared:    </th> <td>   0.808</td>\n",
              "</tr>\n",
              "<tr>\n",
              "  <th>Method:</th>             <td>Least Squares</td>  <th>  F-statistic:       </th> <td>   59.90</td>\n",
              "</tr>\n",
              "<tr>\n",
              "  <th>Date:</th>             <td>Wed, 16 Oct 2024</td> <th>  Prob (F-statistic):</th> <td>3.21e-06</td>\n",
              "</tr>\n",
              "<tr>\n",
              "  <th>Time:</th>                 <td>21:41:50</td>     <th>  Log-Likelihood:    </th> <td> -8.5829</td>\n",
              "</tr>\n",
              "<tr>\n",
              "  <th>No. Observations:</th>      <td>    15</td>      <th>  AIC:               </th> <td>   21.17</td>\n",
              "</tr>\n",
              "<tr>\n",
              "  <th>Df Residuals:</th>          <td>    13</td>      <th>  BIC:               </th> <td>   22.58</td>\n",
              "</tr>\n",
              "<tr>\n",
              "  <th>Df Model:</th>              <td>     1</td>      <th>                     </th>     <td> </td>   \n",
              "</tr>\n",
              "<tr>\n",
              "  <th>Covariance Type:</th>      <td>nonrobust</td>    <th>                     </th>     <td> </td>   \n",
              "</tr>\n",
              "</table>\n",
              "<table class=\"simpletable\">\n",
              "<tr>\n",
              "       <td></td>         <th>coef</th>     <th>std err</th>      <th>t</th>      <th>P>|t|</th>  <th>[0.025</th>    <th>0.975]</th>  \n",
              "</tr>\n",
              "<tr>\n",
              "  <th>Intercept</th>  <td>    0.0566</td> <td>    0.560</td> <td>    0.101</td> <td> 0.921</td> <td>   -1.154</td> <td>    1.267</td>\n",
              "</tr>\n",
              "<tr>\n",
              "  <th>population</th> <td>    0.8653</td> <td>    0.112</td> <td>    7.740</td> <td> 0.000</td> <td>    0.624</td> <td>    1.107</td>\n",
              "</tr>\n",
              "</table>\n",
              "<table class=\"simpletable\">\n",
              "<tr>\n",
              "  <th>Omnibus:</th>       <td> 0.456</td> <th>  Durbin-Watson:     </th> <td>   2.120</td>\n",
              "</tr>\n",
              "<tr>\n",
              "  <th>Prob(Omnibus):</th> <td> 0.796</td> <th>  Jarque-Bera (JB):  </th> <td>   0.531</td>\n",
              "</tr>\n",
              "<tr>\n",
              "  <th>Skew:</th>          <td> 0.115</td> <th>  Prob(JB):          </th> <td>   0.767</td>\n",
              "</tr>\n",
              "<tr>\n",
              "  <th>Kurtosis:</th>      <td> 2.107</td> <th>  Cond. No.          </th> <td>    24.5</td>\n",
              "</tr>\n",
              "</table><br/><br/>Notes:<br/>[1] Standard Errors assume that the covariance matrix of the errors is correctly specified."
            ],
            "text/latex": "\\begin{center}\n\\begin{tabular}{lclc}\n\\toprule\n\\textbf{Dep. Variable:}    &      wspeed      & \\textbf{  R-squared:         } &     0.822   \\\\\n\\textbf{Model:}            &       OLS        & \\textbf{  Adj. R-squared:    } &     0.808   \\\\\n\\textbf{Method:}           &  Least Squares   & \\textbf{  F-statistic:       } &     59.90   \\\\\n\\textbf{Date:}             & Wed, 16 Oct 2024 & \\textbf{  Prob (F-statistic):} &  3.21e-06   \\\\\n\\textbf{Time:}             &     21:41:50     & \\textbf{  Log-Likelihood:    } &   -8.5829   \\\\\n\\textbf{No. Observations:} &          15      & \\textbf{  AIC:               } &     21.17   \\\\\n\\textbf{Df Residuals:}     &          13      & \\textbf{  BIC:               } &     22.58   \\\\\n\\textbf{Df Model:}         &           1      & \\textbf{                     } &             \\\\\n\\textbf{Covariance Type:}  &    nonrobust     & \\textbf{                     } &             \\\\\n\\bottomrule\n\\end{tabular}\n\\begin{tabular}{lcccccc}\n                    & \\textbf{coef} & \\textbf{std err} & \\textbf{t} & \\textbf{P$> |$t$|$} & \\textbf{[0.025} & \\textbf{0.975]}  \\\\\n\\midrule\n\\textbf{Intercept}  &       0.0566  &        0.560     &     0.101  &         0.921        &       -1.154    &        1.267     \\\\\n\\textbf{population} &       0.8653  &        0.112     &     7.740  &         0.000        &        0.624    &        1.107     \\\\\n\\bottomrule\n\\end{tabular}\n\\begin{tabular}{lclc}\n\\textbf{Omnibus:}       &  0.456 & \\textbf{  Durbin-Watson:     } &    2.120  \\\\\n\\textbf{Prob(Omnibus):} &  0.796 & \\textbf{  Jarque-Bera (JB):  } &    0.531  \\\\\n\\textbf{Skew:}          &  0.115 & \\textbf{  Prob(JB):          } &    0.767  \\\\\n\\textbf{Kurtosis:}      &  2.107 & \\textbf{  Cond. No.          } &     24.5  \\\\\n\\bottomrule\n\\end{tabular}\n%\\caption{OLS Regression Results}\n\\end{center}\n\nNotes: \\newline\n [1] Standard Errors assume that the covariance matrix of the errors is correctly specified."
          },
          "metadata": {},
          "execution_count": 25
        }
      ]
    },
    {
      "cell_type": "code",
      "source": [
        "res.predict()"
      ],
      "metadata": {
        "colab": {
          "base_uri": "https://localhost:8080/"
        },
        "id": "IeR1bI3tWyFG",
        "outputId": "0a04efa9-883e-4fbb-f589-c14183c365c4"
      },
      "execution_count": 26,
      "outputs": [
        {
          "output_type": "execute_result",
          "data": {
            "text/plain": [
              "array([3.00001037, 2.27901169, 3.30343936, 3.64712627, 3.83588836,\n",
              "       4.14189772, 4.26660871, 4.28560323, 4.52297726, 4.8204649 ,\n",
              "       4.84435204, 5.20740779, 5.61064953, 5.38045839, 5.27410438])"
            ]
          },
          "metadata": {},
          "execution_count": 26
        }
      ]
    },
    {
      "cell_type": "code",
      "source": [
        "# this is the formula for a second degree polynomial y = ax^2 + bx + c\n",
        "mod = smf.ols(formula='wspeed ~ I(population**2) + population',\n",
        "              data=df)\n",
        "res2 = mod.fit()\n",
        "\n",
        "res2.summary()"
      ],
      "metadata": {
        "colab": {
          "base_uri": "https://localhost:8080/",
          "height": 519
        },
        "id": "5kgIf46uW0Pl",
        "outputId": "8efe5cc0-80bc-42dd-a43f-1184cc8a6044"
      },
      "execution_count": 27,
      "outputs": [
        {
          "output_type": "stream",
          "name": "stderr",
          "text": [
            "/usr/local/lib/python3.10/dist-packages/scipy/stats/_axis_nan_policy.py:531: UserWarning: kurtosistest only valid for n>=20 ... continuing anyway, n=15\n",
            "  res = hypotest_fun_out(*samples, **kwds)\n"
          ]
        },
        {
          "output_type": "execute_result",
          "data": {
            "text/plain": [
              "<class 'statsmodels.iolib.summary.Summary'>\n",
              "\"\"\"\n",
              "                            OLS Regression Results                            \n",
              "==============================================================================\n",
              "Dep. Variable:                 wspeed   R-squared:                       0.826\n",
              "Model:                            OLS   Adj. R-squared:                  0.797\n",
              "Method:                 Least Squares   F-statistic:                     28.41\n",
              "Date:                Wed, 16 Oct 2024   Prob (F-statistic):           2.81e-05\n",
              "Time:                        21:41:50   Log-Likelihood:                -8.4158\n",
              "No. Observations:                  15   AIC:                             22.83\n",
              "Df Residuals:                      12   BIC:                             24.96\n",
              "Df Model:                           2                                         \n",
              "Covariance Type:            nonrobust                                         \n",
              "======================================================================================\n",
              "                         coef    std err          t      P>|t|      [0.025      0.975]\n",
              "--------------------------------------------------------------------------------------\n",
              "Intercept              1.0889      2.067      0.527      0.608      -3.415       5.593\n",
              "I(population ** 2)     0.0513      0.099      0.520      0.613      -0.164       0.266\n",
              "population             0.3916      0.918      0.426      0.677      -1.609       2.392\n",
              "==============================================================================\n",
              "Omnibus:                        0.026   Durbin-Watson:                   2.071\n",
              "Prob(Omnibus):                  0.987   Jarque-Bera (JB):                0.238\n",
              "Skew:                           0.051   Prob(JB):                        0.888\n",
              "Kurtosis:                       2.392   Cond. No.                         507.\n",
              "==============================================================================\n",
              "\n",
              "Notes:\n",
              "[1] Standard Errors assume that the covariance matrix of the errors is correctly specified.\n",
              "\"\"\""
            ],
            "text/html": [
              "<table class=\"simpletable\">\n",
              "<caption>OLS Regression Results</caption>\n",
              "<tr>\n",
              "  <th>Dep. Variable:</th>         <td>wspeed</td>      <th>  R-squared:         </th> <td>   0.826</td>\n",
              "</tr>\n",
              "<tr>\n",
              "  <th>Model:</th>                   <td>OLS</td>       <th>  Adj. R-squared:    </th> <td>   0.797</td>\n",
              "</tr>\n",
              "<tr>\n",
              "  <th>Method:</th>             <td>Least Squares</td>  <th>  F-statistic:       </th> <td>   28.41</td>\n",
              "</tr>\n",
              "<tr>\n",
              "  <th>Date:</th>             <td>Wed, 16 Oct 2024</td> <th>  Prob (F-statistic):</th> <td>2.81e-05</td>\n",
              "</tr>\n",
              "<tr>\n",
              "  <th>Time:</th>                 <td>21:41:50</td>     <th>  Log-Likelihood:    </th> <td> -8.4158</td>\n",
              "</tr>\n",
              "<tr>\n",
              "  <th>No. Observations:</th>      <td>    15</td>      <th>  AIC:               </th> <td>   22.83</td>\n",
              "</tr>\n",
              "<tr>\n",
              "  <th>Df Residuals:</th>          <td>    12</td>      <th>  BIC:               </th> <td>   24.96</td>\n",
              "</tr>\n",
              "<tr>\n",
              "  <th>Df Model:</th>              <td>     2</td>      <th>                     </th>     <td> </td>   \n",
              "</tr>\n",
              "<tr>\n",
              "  <th>Covariance Type:</th>      <td>nonrobust</td>    <th>                     </th>     <td> </td>   \n",
              "</tr>\n",
              "</table>\n",
              "<table class=\"simpletable\">\n",
              "<tr>\n",
              "           <td></td>             <th>coef</th>     <th>std err</th>      <th>t</th>      <th>P>|t|</th>  <th>[0.025</th>    <th>0.975]</th>  \n",
              "</tr>\n",
              "<tr>\n",
              "  <th>Intercept</th>          <td>    1.0889</td> <td>    2.067</td> <td>    0.527</td> <td> 0.608</td> <td>   -3.415</td> <td>    5.593</td>\n",
              "</tr>\n",
              "<tr>\n",
              "  <th>I(population ** 2)</th> <td>    0.0513</td> <td>    0.099</td> <td>    0.520</td> <td> 0.613</td> <td>   -0.164</td> <td>    0.266</td>\n",
              "</tr>\n",
              "<tr>\n",
              "  <th>population</th>         <td>    0.3916</td> <td>    0.918</td> <td>    0.426</td> <td> 0.677</td> <td>   -1.609</td> <td>    2.392</td>\n",
              "</tr>\n",
              "</table>\n",
              "<table class=\"simpletable\">\n",
              "<tr>\n",
              "  <th>Omnibus:</th>       <td> 0.026</td> <th>  Durbin-Watson:     </th> <td>   2.071</td>\n",
              "</tr>\n",
              "<tr>\n",
              "  <th>Prob(Omnibus):</th> <td> 0.987</td> <th>  Jarque-Bera (JB):  </th> <td>   0.238</td>\n",
              "</tr>\n",
              "<tr>\n",
              "  <th>Skew:</th>          <td> 0.051</td> <th>  Prob(JB):          </th> <td>   0.888</td>\n",
              "</tr>\n",
              "<tr>\n",
              "  <th>Kurtosis:</th>      <td> 2.392</td> <th>  Cond. No.          </th> <td>    507.</td>\n",
              "</tr>\n",
              "</table><br/><br/>Notes:<br/>[1] Standard Errors assume that the covariance matrix of the errors is correctly specified."
            ],
            "text/latex": "\\begin{center}\n\\begin{tabular}{lclc}\n\\toprule\n\\textbf{Dep. Variable:}     &      wspeed      & \\textbf{  R-squared:         } &     0.826   \\\\\n\\textbf{Model:}             &       OLS        & \\textbf{  Adj. R-squared:    } &     0.797   \\\\\n\\textbf{Method:}            &  Least Squares   & \\textbf{  F-statistic:       } &     28.41   \\\\\n\\textbf{Date:}              & Wed, 16 Oct 2024 & \\textbf{  Prob (F-statistic):} &  2.81e-05   \\\\\n\\textbf{Time:}              &     21:41:50     & \\textbf{  Log-Likelihood:    } &   -8.4158   \\\\\n\\textbf{No. Observations:}  &          15      & \\textbf{  AIC:               } &     22.83   \\\\\n\\textbf{Df Residuals:}      &          12      & \\textbf{  BIC:               } &     24.96   \\\\\n\\textbf{Df Model:}          &           2      & \\textbf{                     } &             \\\\\n\\textbf{Covariance Type:}   &    nonrobust     & \\textbf{                     } &             \\\\\n\\bottomrule\n\\end{tabular}\n\\begin{tabular}{lcccccc}\n                            & \\textbf{coef} & \\textbf{std err} & \\textbf{t} & \\textbf{P$> |$t$|$} & \\textbf{[0.025} & \\textbf{0.975]}  \\\\\n\\midrule\n\\textbf{Intercept}          &       1.0889  &        2.067     &     0.527  &         0.608        &       -3.415    &        5.593     \\\\\n\\textbf{I(population ** 2)} &       0.0513  &        0.099     &     0.520  &         0.613        &       -0.164    &        0.266     \\\\\n\\textbf{population}         &       0.3916  &        0.918     &     0.426  &         0.677        &       -1.609    &        2.392     \\\\\n\\bottomrule\n\\end{tabular}\n\\begin{tabular}{lclc}\n\\textbf{Omnibus:}       &  0.026 & \\textbf{  Durbin-Watson:     } &    2.071  \\\\\n\\textbf{Prob(Omnibus):} &  0.987 & \\textbf{  Jarque-Bera (JB):  } &    0.238  \\\\\n\\textbf{Skew:}          &  0.051 & \\textbf{  Prob(JB):          } &    0.888  \\\\\n\\textbf{Kurtosis:}      &  2.392 & \\textbf{  Cond. No.          } &     507.  \\\\\n\\bottomrule\n\\end{tabular}\n%\\caption{OLS Regression Results}\n\\end{center}\n\nNotes: \\newline\n [1] Standard Errors assume that the covariance matrix of the errors is correctly specified."
          },
          "metadata": {},
          "execution_count": 27
        }
      ]
    },
    {
      "cell_type": "code",
      "source": [
        "ax = df.plot(\"population\", \"wspeed\", kind=\"scatter\")\n",
        "ax.plot(df.population, res.predict(df), label=\"line fit\")\n",
        "ax.plot(df.population, res2.predict(df), label=\"quadratic fit\")\n",
        "ax.legend()\n",
        "ax.set_xlabel('x')\n",
        "ax.set_ylabel('y');"
      ],
      "metadata": {
        "colab": {
          "base_uri": "https://localhost:8080/",
          "height": 449
        },
        "id": "FWJKGa6VW2TT",
        "outputId": "1ed0ff11-31bf-47bf-f42f-19a7c5079603"
      },
      "execution_count": 28,
      "outputs": [
        {
          "output_type": "display_data",
          "data": {
            "text/plain": [
              "<Figure size 640x480 with 1 Axes>"
            ],
            "image/png": "[encoded data removed]"
          },
          "metadata": {}
        }
      ]
    },
    {
      "cell_type": "markdown",
      "source": [
        "#####**Figure 1.7** The data in Figures 1.1 and 1.2 are fit with a first (line, blue) and second degree polynomial (parabola, orange.)"
      ],
      "metadata": {
        "id": "ormHDm3lW7g-"
      }
    },
    {
      "cell_type": "code",
      "source": [
        "#set your significance threshold\n",
        "alpha = 0.05"
      ],
      "metadata": {
        "id": "YoosTMv5W4ei"
      },
      "execution_count": 29,
      "outputs": []
    },
    {
      "cell_type": "code",
      "source": [
        "#likelihood rations test, res dataset against res2 [value of restricted parameter]\n",
        "lr = res2.compare_lr_test(res)"
      ],
      "metadata": {
        "id": "9rEq9FDMXSwR"
      },
      "execution_count": 30,
      "outputs": []
    },
    {
      "cell_type": "code",
      "source": [
        "#run a NHRT style fit: the Likelihood Ratio test\n",
        "print(\"LR statistics {:.2f}, p-value {:.2f}, degrees of freedom {}\".format(\n",
        "    *lr))"
      ],
      "metadata": {
        "colab": {
          "base_uri": "https://localhost:8080/"
        },
        "id": "hSTsiKRPYUrr",
        "outputId": "71392288-eba5-44d7-d1ef-71c28cbaf097"
      },
      "execution_count": 31,
      "outputs": [
        {
          "output_type": "stream",
          "name": "stdout",
          "text": [
            "LR statistics 0.33, p-value 0.56, degrees of freedom 1.0\n"
          ]
        }
      ]
    },
    {
      "cell_type": "markdown",
      "source": [
        "**NULL HYPOTHESIS HERE**"
      ],
      "metadata": {
        "id": "PMCmwwj_fjd1"
      }
    },
    {
      "cell_type": "code",
      "source": [
        "print('Likelihood ration test - we set alpha to alpha={}.\\n'.format(alpha))\n",
        "print('The Null Hypothesis is that the more complex model, the quadratic fit, is better than the simpler model, the linear fit.\\n')\n",
        "print(\"Since the p-value is GREATER than the p-value threshold we REJECT the Null Hypothesis.\")"
      ],
      "metadata": {
        "id": "NvkIyfMhfbNM",
        "colab": {
          "base_uri": "https://localhost:8080/"
        },
        "outputId": "a44d225b-e865-41f4-c04e-bf4480c469bd"
      },
      "execution_count": 32,
      "outputs": [
        {
          "output_type": "stream",
          "name": "stdout",
          "text": [
            "Likelihood ration test - we set alpha to alpha=0.05.\n",
            "\n",
            "The Null Hypothesis is that the more complex model, the quadratic fit, is better than the simpler model, the linear fit.\n",
            "\n",
            "Since the p-value is GREATER than the p-value threshold we REJECT the Null Hypothesis.\n"
          ]
        }
      ]
    },
    {
      "cell_type": "markdown",
      "source": [
        "###**Quantifying Quality of Fit**\n",
        "---"
      ],
      "metadata": {
        "id": "FfnxqPk2fzVn"
      }
    },
    {
      "cell_type": "code",
      "source": [
        "res.params"
      ],
      "metadata": {
        "colab": {
          "base_uri": "https://localhost:8080/",
          "height": 145
        },
        "id": "hSVoAJZifojz",
        "outputId": "2bed752e-987c-4de1-8105-40edef59b114"
      },
      "execution_count": 41,
      "outputs": [
        {
          "output_type": "execute_result",
          "data": {
            "text/plain": [
              "Intercept     0.056649\n",
              "population    0.865338\n",
              "dtype: float64"
            ],
            "text/html": [
              "<div>\n",
              "<style scoped>\n",
              "    .dataframe tbody tr th:only-of-type {\n",
              "        vertical-align: middle;\n",
              "    }\n",
              "\n",
              "    .dataframe tbody tr th {\n",
              "        vertical-align: top;\n",
              "    }\n",
              "\n",
              "    .dataframe thead th {\n",
              "        text-align: right;\n",
              "    }\n",
              "</style>\n",
              "<table border=\"1\" class=\"dataframe\">\n",
              "  <thead>\n",
              "    <tr style=\"text-align: right;\">\n",
              "      <th></th>\n",
              "      <th>0</th>\n",
              "    </tr>\n",
              "  </thead>\n",
              "  <tbody>\n",
              "    <tr>\n",
              "      <th>Intercept</th>\n",
              "      <td>0.056649</td>\n",
              "    </tr>\n",
              "    <tr>\n",
              "      <th>population</th>\n",
              "      <td>0.865338</td>\n",
              "    </tr>\n",
              "  </tbody>\n",
              "</table>\n",
              "</div><br><label><b>dtype:</b> float64</label>"
            ]
          },
          "metadata": {},
          "execution_count": 41
        }
      ]
    },
    {
      "cell_type": "code",
      "source": [
        "res.conf_int()"
      ],
      "metadata": {
        "colab": {
          "base_uri": "https://localhost:8080/",
          "height": 111
        },
        "id": "5Jm2C4Apf3gq",
        "outputId": "ab5d4281-8f5f-43a8-80b7-dcc704ae8647"
      },
      "execution_count": 39,
      "outputs": [
        {
          "output_type": "execute_result",
          "data": {
            "text/plain": [
              "                   0         1\n",
              "Intercept  -1.153880  1.267177\n",
              "population  0.623798  1.106878"
            ],
            "text/html": [
              "\n",
              "  <div id=\"df-71fc7d3c-4556-4cf8-9e25-2dca79193bec\" class=\"colab-df-container\">\n",
              "    <div>\n",
              "<style scoped>\n",
              "    .dataframe tbody tr th:only-of-type {\n",
              "        vertical-align: middle;\n",
              "    }\n",
              "\n",
              "    .dataframe tbody tr th {\n",
              "        vertical-align: top;\n",
              "    }\n",
              "\n",
              "    .dataframe thead th {\n",
              "        text-align: right;\n",
              "    }\n",
              "</style>\n",
              "<table border=\"1\" class=\"dataframe\">\n",
              "  <thead>\n",
              "    <tr style=\"text-align: right;\">\n",
              "      <th></th>\n",
              "      <th>0</th>\n",
              "      <th>1</th>\n",
              "    </tr>\n",
              "  </thead>\n",
              "  <tbody>\n",
              "    <tr>\n",
              "      <th>Intercept</th>\n",
              "      <td>-1.153880</td>\n",
              "      <td>1.267177</td>\n",
              "    </tr>\n",
              "    <tr>\n",
              "      <th>population</th>\n",
              "      <td>0.623798</td>\n",
              "      <td>1.106878</td>\n",
              "    </tr>\n",
              "  </tbody>\n",
              "</table>\n",
              "</div>\n",
              "    <div class=\"colab-df-buttons\">\n",
              "\n",
              "  <div class=\"colab-df-container\">\n",
              "    <button class=\"colab-df-convert\" onclick=\"convertToInteractive('df-71fc7d3c-4556-4cf8-9e25-2dca79193bec')\"\n",
              "            title=\"Convert this dataframe to an interactive table.\"\n",
              "            style=\"display:none;\">\n",
              "\n",
              "  <svg xmlns=\"http://www.w3.org/2000/svg\" height=\"24px\" viewBox=\"0 -960 960 960\">\n",
              "    <path d=\"M120-120v-720h720v720H120Zm60-500h600v-160H180v160Zm220 220h160v-160H400v160Zm0 220h160v-160H400v160ZM180-400h160v-160H180v160Zm440 0h160v-160H620v160ZM180-180h160v-160H180v160Zm440 0h160v-160H620v160Z\"/>\n",
              "  </svg>\n",
              "    </button>\n",
              "\n",
              "  <style>\n",
              "    .colab-df-container {\n",
              "      display:flex;\n",
              "      gap: 12px;\n",
              "    }\n",
              "\n",
              "    .colab-df-convert {\n",
              "      background-color: #E8F0FE;\n",
              "      border: none;\n",
              "      border-radius: 50%;\n",
              "      cursor: pointer;\n",
              "      display: none;\n",
              "      fill: #1967D2;\n",
              "      height: 32px;\n",
              "      padding: 0 0 0 0;\n",
              "      width: 32px;\n",
              "    }\n",
              "\n",
              "    .colab-df-convert:hover {\n",
              "      background-color: #E2EBFA;\n",
              "      box-shadow: 0px 1px 2px rgba(60, 64, 67, 0.3), 0px 1px 3px 1px rgba(60, 64, 67, 0.15);\n",
              "      fill: #174EA6;\n",
              "    }\n",
              "\n",
              "    .colab-df-buttons div {\n",
              "      margin-bottom: 4px;\n",
              "    }\n",
              "\n",
              "    [theme=dark] .colab-df-convert {\n",
              "      background-color: #3B4455;\n",
              "      fill: #D2E3FC;\n",
              "    }\n",
              "\n",
              "    [theme=dark] .colab-df-convert:hover {\n",
              "      background-color: #434B5C;\n",
              "      box-shadow: 0px 1px 3px 1px rgba(0, 0, 0, 0.15);\n",
              "      filter: drop-shadow(0px 1px 2px rgba(0, 0, 0, 0.3));\n",
              "      fill: #FFFFFF;\n",
              "    }\n",
              "  </style>\n",
              "\n",
              "    <script>\n",
              "      const buttonEl =\n",
              "        document.querySelector('#df-71fc7d3c-4556-4cf8-9e25-2dca79193bec button.colab-df-convert');\n",
              "      buttonEl.style.display =\n",
              "        google.colab.kernel.accessAllowed ? 'block' : 'none';\n",
              "\n",
              "      async function convertToInteractive(key) {\n",
              "        const element = document.querySelector('#df-71fc7d3c-4556-4cf8-9e25-2dca79193bec');\n",
              "        const dataTable =\n",
              "          await google.colab.kernel.invokeFunction('convertToInteractive',\n",
              "                                                    [key], {});\n",
              "        if (!dataTable) return;\n",
              "\n",
              "        const docLinkHtml = 'Like what you see? Visit the ' +\n",
              "          '<a target=\"_blank\" href=https://colab.research.google.com/notebooks/data_table.ipynb>data table notebook</a>'\n",
              "          + ' to learn more about interactive tables.';\n",
              "        element.innerHTML = '';\n",
              "        dataTable['output_type'] = 'display_data';\n",
              "        await google.colab.output.renderOutput(dataTable, element);\n",
              "        const docLink = document.createElement('div');\n",
              "        docLink.innerHTML = docLinkHtml;\n",
              "        element.appendChild(docLink);\n",
              "      }\n",
              "    </script>\n",
              "  </div>\n",
              "\n",
              "\n",
              "<div id=\"df-16c72e63-b4e1-4136-ae70-080f7c5043c9\">\n",
              "  <button class=\"colab-df-quickchart\" onclick=\"quickchart('df-16c72e63-b4e1-4136-ae70-080f7c5043c9')\"\n",
              "            title=\"Suggest charts\"\n",
              "            style=\"display:none;\">\n",
              "\n",
              "<svg xmlns=\"http://www.w3.org/2000/svg\" height=\"24px\"viewBox=\"0 0 24 24\"\n",
              "     width=\"24px\">\n",
              "    <g>\n",
              "        <path d=\"M19 3H5c-1.1 0-2 .9-2 2v14c0 1.1.9 2 2 2h14c1.1 0 2-.9 2-2V5c0-1.1-.9-2-2-2zM9 17H7v-7h2v7zm4 0h-2V7h2v10zm4 0h-2v-4h2v4z\"/>\n",
              "    </g>\n",
              "</svg>\n",
              "  </button>\n",
              "\n",
              "<style>\n",
              "  .colab-df-quickchart {\n",
              "      --bg-color: #E8F0FE;\n",
              "      --fill-color: #1967D2;\n",
              "      --hover-bg-color: #E2EBFA;\n",
              "      --hover-fill-color: #174EA6;\n",
              "      --disabled-fill-color: #AAA;\n",
              "      --disabled-bg-color: #DDD;\n",
              "  }\n",
              "\n",
              "  [theme=dark] .colab-df-quickchart {\n",
              "      --bg-color: #3B4455;\n",
              "      --fill-color: #D2E3FC;\n",
              "      --hover-bg-color: #434B5C;\n",
              "      --hover-fill-color: #FFFFFF;\n",
              "      --disabled-bg-color: #3B4455;\n",
              "      --disabled-fill-color: #666;\n",
              "  }\n",
              "\n",
              "  .colab-df-quickchart {\n",
              "    background-color: var(--bg-color);\n",
              "    border: none;\n",
              "    border-radius: 50%;\n",
              "    cursor: pointer;\n",
              "    display: none;\n",
              "    fill: var(--fill-color);\n",
              "    height: 32px;\n",
              "    padding: 0;\n",
              "    width: 32px;\n",
              "  }\n",
              "\n",
              "  .colab-df-quickchart:hover {\n",
              "    background-color: var(--hover-bg-color);\n",
              "    box-shadow: 0 1px 2px rgba(60, 64, 67, 0.3), 0 1px 3px 1px rgba(60, 64, 67, 0.15);\n",
              "    fill: var(--button-hover-fill-color);\n",
              "  }\n",
              "\n",
              "  .colab-df-quickchart-complete:disabled,\n",
              "  .colab-df-quickchart-complete:disabled:hover {\n",
              "    background-color: var(--disabled-bg-color);\n",
              "    fill: var(--disabled-fill-color);\n",
              "    box-shadow: none;\n",
              "  }\n",
              "\n",
              "  .colab-df-spinner {\n",
              "    border: 2px solid var(--fill-color);\n",
              "    border-color: transparent;\n",
              "    border-bottom-color: var(--fill-color);\n",
              "    animation:\n",
              "      spin 1s steps(1) infinite;\n",
              "  }\n",
              "\n",
              "  @keyframes spin {\n",
              "    0% {\n",
              "      border-color: transparent;\n",
              "      border-bottom-color: var(--fill-color);\n",
              "      border-left-color: var(--fill-color);\n",
              "    }\n",
              "    20% {\n",
              "      border-color: transparent;\n",
              "      border-left-color: var(--fill-color);\n",
              "      border-top-color: var(--fill-color);\n",
              "    }\n",
              "    30% {\n",
              "      border-color: transparent;\n",
              "      border-left-color: var(--fill-color);\n",
              "      border-top-color: var(--fill-color);\n",
              "      border-right-color: var(--fill-color);\n",
              "    }\n",
              "    40% {\n",
              "      border-color: transparent;\n",
              "      border-right-color: var(--fill-color);\n",
              "      border-top-color: var(--fill-color);\n",
              "    }\n",
              "    60% {\n",
              "      border-color: transparent;\n",
              "      border-right-color: var(--fill-color);\n",
              "    }\n",
              "    80% {\n",
              "      border-color: transparent;\n",
              "      border-right-color: var(--fill-color);\n",
              "      border-bottom-color: var(--fill-color);\n",
              "    }\n",
              "    90% {\n",
              "      border-color: transparent;\n",
              "      border-bottom-color: var(--fill-color);\n",
              "    }\n",
              "  }\n",
              "</style>\n",
              "\n",
              "  <script>\n",
              "    async function quickchart(key) {\n",
              "      const quickchartButtonEl =\n",
              "        document.querySelector('#' + key + ' button');\n",
              "      quickchartButtonEl.disabled = true;  // To prevent multiple clicks.\n",
              "      quickchartButtonEl.classList.add('colab-df-spinner');\n",
              "      try {\n",
              "        const charts = await google.colab.kernel.invokeFunction(\n",
              "            'suggestCharts', [key], {});\n",
              "      } catch (error) {\n",
              "        console.error('Error during call to suggestCharts:', error);\n",
              "      }\n",
              "      quickchartButtonEl.classList.remove('colab-df-spinner');\n",
              "      quickchartButtonEl.classList.add('colab-df-quickchart-complete');\n",
              "    }\n",
              "    (() => {\n",
              "      let quickchartButtonEl =\n",
              "        document.querySelector('#df-16c72e63-b4e1-4136-ae70-080f7c5043c9 button');\n",
              "      quickchartButtonEl.style.display =\n",
              "        google.colab.kernel.accessAllowed ? 'block' : 'none';\n",
              "    })();\n",
              "  </script>\n",
              "</div>\n",
              "\n",
              "    </div>\n",
              "  </div>\n"
            ],
            "application/vnd.google.colaboratory.intrinsic+json": {
              "type": "dataframe",
              "summary": "{\n  \"name\": \"res\",\n  \"rows\": 2,\n  \"fields\": [\n    {\n      \"column\": 0,\n      \"properties\": {\n        \"dtype\": \"number\",\n        \"std\": 1.2570082395376747,\n        \"min\": -1.1538797136340384,\n        \"max\": 0.6237983867348693,\n        \"num_unique_values\": 2,\n        \"samples\": [\n          0.6237983867348693,\n          -1.1538797136340384\n        ],\n        \"semantic_type\": \"\",\n        \"description\": \"\"\n      }\n    },\n    {\n      \"column\": 1,\n      \"properties\": {\n        \"dtype\": \"number\",\n        \"std\": 0.11334899553035722,\n        \"min\": 1.1068778099027101,\n        \"max\": 1.2671774966631086,\n        \"num_unique_values\": 2,\n        \"samples\": [\n          1.1068778099027101,\n          1.2671774966631086\n        ],\n        \"semantic_type\": \"\",\n        \"description\": \"\"\n      }\n    }\n  ]\n}"
            }
          },
          "metadata": {},
          "execution_count": 39
        }
      ]
    },
    {
      "cell_type": "markdown",
      "source": [
        "####**Based on the confidence intervals above, which of Intercept and Population are statistically significant?**\n",
        "\n",
        "#####The population is statistically significant due to the confidence interval falling within the 95% threshhold and its range maintaining a non-zero value."
      ],
      "metadata": {
        "id": "6zqFMieVgOoG"
      }
    },
    {
      "cell_type": "markdown",
      "source": [
        "###**Influence Points**\n",
        "---"
      ],
      "metadata": {
        "id": "qXb1yKlfJH0a"
      }
    },
    {
      "cell_type": "code",
      "source": [
        "from statsmodels.stats.outliers_influence import summary_table"
      ],
      "metadata": {
        "id": "VXDjMMHqgFaJ"
      },
      "execution_count": 35,
      "outputs": []
    },
    {
      "cell_type": "code",
      "source": [
        "sm.graphics.influence_plot(res);"
      ],
      "metadata": {
        "colab": {
          "base_uri": "https://localhost:8080/",
          "height": 480
        },
        "id": "lUAtRSR-gPVW",
        "outputId": "21e33a6e-f968-49e8-b08b-09aa2b853bf0"
      },
      "execution_count": 36,
      "outputs": [
        {
          "output_type": "display_data",
          "data": {
            "text/plain": [
              "<Figure size 640x480 with 1 Axes>"
            ],
            "image/png": "[encoded data removed]"
          },
          "metadata": {}
        }
      ]
    },
    {
      "cell_type": "markdown",
      "source": [
        "#####**Figure 1.8** Influence plot for first degree (line) polynomial fit."
      ],
      "metadata": {
        "id": "5sPY5CwAgYzl"
      }
    },
    {
      "cell_type": "code",
      "source": [
        "sm.graphics.influence_plot(res2);"
      ],
      "metadata": {
        "colab": {
          "base_uri": "https://localhost:8080/",
          "height": 480
        },
        "id": "kIkyC9EMgTMt",
        "outputId": "d7dc1c5b-c404-43b1-bbde-ad2269b95802"
      },
      "execution_count": 37,
      "outputs": [
        {
          "output_type": "display_data",
          "data": {
            "text/plain": [
              "<Figure size 640x480 with 1 Axes>"
            ],
            "image/png": "[encoded data removed]"
          },
          "metadata": {}
        }
      ]
    },
    {
      "cell_type": "markdown",
      "source": [
        "#####**Figure 1.9** Influence plot for second degree (parabola) polynomial fit."
      ],
      "metadata": {
        "id": "7F_0-M4vgoNt"
      }
    },
    {
      "cell_type": "code",
      "source": [],
      "metadata": {
        "id": "pQJP98Drgkf-"
      },
      "execution_count": 37,
      "outputs": []
    }
  ]
}