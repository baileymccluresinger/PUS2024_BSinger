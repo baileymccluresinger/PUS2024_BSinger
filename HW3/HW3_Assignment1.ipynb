{
  "nbformat": 4,
  "nbformat_minor": 0,
  "metadata": {
    "colab": {
      "provenance": [],
      "authorship_tag": "ABX9TyOdrvOm4VMYgLvUYze6dH0D",
      "include_colab_link": true
    },
    "kernelspec": {
      "name": "python3",
      "display_name": "Python 3"
    },
    "language_info": {
      "name": "python"
    }
  },
  "cells": [
    {
      "cell_type": "markdown",
      "metadata": {
        "id": "view-in-github",
        "colab_type": "text"
      },
      "source": [
        "<a href=\"https://colab.research.google.com/github/baileymccluresinger/PUS2024_BSinger/blob/main/HW3/HW3_Assignment1.ipynb\" target=\"_parent\"><img src=\"https://colab.research.google.com/assets/colab-badge.svg\" alt=\"Open In Colab\"/></a>"
      ]
    },
    {
      "cell_type": "markdown",
      "source": [
        "#**HW3: NYC Post-Prison Employment Programs**\n",
        "---"
      ],
      "metadata": {
        "id": "UO6pohNMj-OS"
      }
    },
    {
      "cell_type": "code",
      "execution_count": 2,
      "metadata": {
        "colab": {
          "base_uri": "https://localhost:8080/"
        },
        "id": "eP4Nuz1aqjpP",
        "outputId": "d9b8b30d-63cd-4834-f234-6ca8676f7acb"
      },
      "outputs": [
        {
          "output_type": "stream",
          "name": "stdout",
          "text": [
            "Populating the interactive namespace from numpy and matplotlib\n"
          ]
        }
      ],
      "source": [
        "import os\n",
        "import sys\n",
        "import numpy as np\n",
        "import pylab as pl\n",
        "\n",
        "%pylab inline\n",
        "\n",
        "from IPython.display import Image\n",
        "#Image(filename='https://www.mdrc.org/sites/default/files/What%20Strategies%20Work%20for%20the%20Hard%20FR.pdf')"
      ]
    },
    {
      "cell_type": "markdown",
      "source": [
        "##**Null Hypothesis:** the % of former prisoners who are convicted with a felony after release is the same or higher for candidates who participated in the program as for the control group, significance level $\\alpha$ $=$ $0.05$\n",
        "\n",
        "### _$H_0$_ : $\\\\{P_{\\\\\\\\{0}}}$ $-$ $\\\\{P_{\\\\\\\\{1}}}$ $<=$ $0$\n",
        "\n",
        "### _$H_A$_ : $\\\\{P_{\\\\\\\\{0}}}$ $-$ $\\\\{P_{\\\\\\\\{1}}}$ $>$ $0$\n",
        "\n",
        "### $\\alpha$ $=$ $0.05$\n",
        "\n",
        "### $\\\\{P_{\\\\\\\\{0}}}$ $=$ $0.117$ $,$ $\\\\{P_{\\\\\\\\{1}}}$ $=$ $0.1$"
      ],
      "metadata": {
        "id": "ZmffttWLeLVo"
      }
    },
    {
      "cell_type": "code",
      "source": [
        "#significance threshold\n",
        "alpha=0.05\n",
        "\n",
        "\n",
        "# 0 for control group, 1 for program group\n",
        "\n",
        "P_0 = 11.7 * 0.01\n",
        "P_1 = 10 * 0.01\n",
        "\n",
        "if P_0 - P_1 >= 0:\n",
        "    print (\"the Null holds\")\n",
        "else:\n",
        "    print (\"we must assess the statistical significance\")\n",
        "\n",
        "#sample sizes\n",
        "\n",
        "n_0 = 409\n",
        "n_1 = 568\n",
        "\n",
        "#count calculations\n",
        "\n",
        "Nt_0 = P_0 * n_0\n",
        "Nt_1 = P_1 * n_1"
      ],
      "metadata": {
        "colab": {
          "base_uri": "https://localhost:8080/"
        },
        "id": "LB8ciE45q586",
        "outputId": "6a892a1e-d2fc-426d-f9b2-2167a8463655"
      },
      "execution_count": 75,
      "outputs": [
        {
          "output_type": "stream",
          "name": "stdout",
          "text": [
            "the Null holds\n"
          ]
        }
      ]
    },
    {
      "cell_type": "code",
      "source": [
        "#define the sample proportion\n",
        "sp = (P_0 * n_0 + P_1 * n_1) / (n_1 + n_0)\n",
        "print (sp)"
      ],
      "metadata": {
        "colab": {
          "base_uri": "https://localhost:8080/"
        },
        "id": "kEZY0KWprORi",
        "outputId": "5c5d0976-25bf-44cd-ce41-a7e75dc141ec"
      },
      "execution_count": 76,
      "outputs": [
        {
          "output_type": "stream",
          "name": "stdout",
          "text": [
            "0.10711668372569089\n"
          ]
        }
      ]
    },
    {
      "cell_type": "code",
      "source": [
        "#calculate p\n",
        "p = lambda p0, p1, n0, n1: (p0 * n0 + p1 * n1) / (n0 + n1)\n",
        "#standard error\n",
        "se = lambda p, n0, n1: np.sqrt(p * (1 - p) * (1.0 / n0 + 1.0 / n1))"
      ],
      "metadata": {
        "id": "MXQ8X4bDrU5-"
      },
      "execution_count": 77,
      "outputs": []
    },
    {
      "cell_type": "code",
      "source": [
        "zscore = lambda p0, p1, s : (p0 - p1) / s\n",
        "z_2y = zscore(P_1, P_0, se(p(P_0, P_1, n_0, n_1), n_0, n_1))\n",
        "print (z_2y)"
      ],
      "metadata": {
        "colab": {
          "base_uri": "https://localhost:8080/"
        },
        "id": "Yg3Qe94sre26",
        "outputId": "53a84ec2-5036-473c-b26d-e32adf4ddb6f"
      },
      "execution_count": 78,
      "outputs": [
        {
          "output_type": "stream",
          "name": "stdout",
          "text": [
            "-0.8476402052199316\n"
          ]
        }
      ]
    },
    {
      "cell_type": "code",
      "source": [
        "#p-value = 1 - P\n",
        "\n",
        "p_2y = 1 - 0.8389\n",
        "\n",
        "\n",
        "def report_result(p,a):\n",
        "    print ('is the p value ' +\n",
        "           '{0:.2f} smaller than the critical value {1:.2f}?'.format(p,a))\n",
        "    if p < a:\n",
        "        print (\"YES!\")\n",
        "    else:\n",
        "        print (\"NO!\")\n",
        "\n",
        "    print ('the Null hypothesis is {}'.format(\\\n",
        "                            'rejected' if p < a  else 'not rejected') )\n",
        "\n",
        "\n",
        "report_result(p_2y, alpha)"
      ],
      "metadata": {
        "colab": {
          "base_uri": "https://localhost:8080/"
        },
        "id": "YPdnT4SMrgmg",
        "outputId": "2db90013-55cf-4014-daf6-24fa81c0776b"
      },
      "execution_count": 59,
      "outputs": [
        {
          "output_type": "stream",
          "name": "stdout",
          "text": [
            "is the p value 0.16 smaller than the critical value 0.05?\n",
            "NO!\n",
            "the Null hypothesis is not rejected\n"
          ]
        }
      ]
    },
    {
      "cell_type": "code",
      "source": [
        "#felony conviction|    no     |    yes   |total|\n",
        "#-----------------|-----------|----------|-----|\n",
        "#test sample      |  558/568  |  10/568  | 568 |\n",
        "#control sample   | 397.3/409 | 11.7/409 | 409 |\n",
        "#total            |   955.3   |   21.7   | 977 |"
      ],
      "metadata": {
        "id": "6fMLZ1qNrn47"
      },
      "execution_count": 8,
      "outputs": []
    },
    {
      "cell_type": "code",
      "source": [
        "#calculating expected values for each cell\n",
        "cellone = (955.3*568)/977 #test and no\n",
        "celltwo = (955.3*409)/977 #control and no\n",
        "cellthree = (21.7*568)/977 #test and yes\n",
        "cellfour = (21.7*409)/977 #control and yes\n",
        "expected_values = np.array([[cellone, cellthree],[celltwo, cellfour]])\n",
        "expected_values"
      ],
      "metadata": {
        "colab": {
          "base_uri": "https://localhost:8080/"
        },
        "id": "ggC98TlAwgxW",
        "outputId": "d7cf99d4-bfcc-4450-de12-8eb5d8a65ebd"
      },
      "execution_count": 79,
      "outputs": [
        {
          "output_type": "execute_result",
          "data": {
            "text/plain": [
              "array([[555.38423746,  12.61576254],\n",
              "       [399.91576254,   9.08423746]])"
            ]
          },
          "metadata": {},
          "execution_count": 79
        }
      ]
    },
    {
      "cell_type": "code",
      "source": [
        "#simple chi-square function\n",
        "observed_values = np.array([[(558/568)*568, (10/568)*568],[(397.3/409)*409, (11.7/409)*409]])\n",
        "#this is the same as -> observed_values = np.array([[558, 10],[397.3, 11.7]])\n",
        "\n",
        "chi_squared_stat = (((observed_values-expected_values)**2)/expected_values).sum()\n",
        "\n",
        "chi_squared_stat"
      ],
      "metadata": {
        "colab": {
          "base_uri": "https://localhost:8080/"
        },
        "id": "SNpw-7mKsfGG",
        "outputId": "c07b8937-1475-4dd1-f4ee-dc8b0e78d2cd"
      },
      "execution_count": 74,
      "outputs": [
        {
          "output_type": "execute_result",
          "data": {
            "text/plain": [
              "1.3249795255620942"
            ]
          },
          "metadata": {},
          "execution_count": 74
        }
      ]
    },
    {
      "cell_type": "code",
      "source": [
        "#external chi-square function\n",
        "def evalChisq(values):\n",
        "    values = np.array(values)\n",
        "    E = np.empty_like(values)\n",
        "    for j in range(len(values[0])):\n",
        "        for i in range(2):\n",
        "\n",
        "            E[i][j] = ((values[i,:].sum() * values[:,j].sum()) /\n",
        "                        (values).sum())\n",
        "    return ((values - E)**2 / E).sum()"
      ],
      "metadata": {
        "id": "K1jCfPNOpPke"
      },
      "execution_count": 71,
      "outputs": []
    },
    {
      "cell_type": "code",
      "source": [
        "#second check of chi-square value\n",
        "Ntot = 977\n",
        "\n",
        "sample_values = np.array([[(558/568)*568, (10/568)*568],[(397.3/409)*409, (11.7/409)*409]])\n",
        "\n",
        "print(evalChisq(sample_values))"
      ],
      "metadata": {
        "colab": {
          "base_uri": "https://localhost:8080/"
        },
        "id": "GZk7zP87uDO6",
        "outputId": "03ddac99-0e89-4646-970b-2c7bcfb02935"
      },
      "execution_count": 73,
      "outputs": [
        {
          "output_type": "stream",
          "name": "stdout",
          "text": [
            "1.3249795255620942\n"
          ]
        }
      ]
    },
    {
      "cell_type": "markdown",
      "source": [
        "###**Assignment 1 Questions**\n",
        "---\n",
        "#### **1.** The chi-square critical value, 3.84, is determined based on the singular degree of freedom and the significance threshold, $\\alpha=0.05$.\n",
        "\n",
        "#### **2.** The chi-square statistic that I determined, 1.32, is less than 3.84, which means the null hypothesis is rejected because the data deviated significantly from the expected distribution.\n",
        "\n",
        "#### **3.**"
      ],
      "metadata": {
        "id": "DWVLbMmtWTpY"
      }
    },
    {
      "cell_type": "code",
      "source": [],
      "metadata": {
        "id": "LLSY5CpqZN7c"
      },
      "execution_count": null,
      "outputs": []
    }
  ]
}